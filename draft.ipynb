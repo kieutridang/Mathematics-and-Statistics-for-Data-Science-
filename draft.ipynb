{
 "cells": [
  {
   "cell_type": "code",
   "execution_count": 15,
   "metadata": {},
   "outputs": [],
   "source": [
    "import numpy as np\n",
    "from numpy.linalg import norm\n",
    "import math\n",
    "from numpy import tril, triu"
   ]
  },
  {
   "cell_type": "code",
   "execution_count": 2,
   "metadata": {},
   "outputs": [
    {
     "output_type": "execute_result",
     "data": {
      "text/plain": "11"
     },
     "metadata": {},
     "execution_count": 2
    }
   ],
   "source": [
    "u = np.array([3, 1, 2])\n",
    "v = np.array([1, 0, 4])\n",
    "\n",
    "c = u.dot(v)\n",
    "c"
   ]
  },
  {
   "cell_type": "code",
   "execution_count": 3,
   "metadata": {},
   "outputs": [
    {
     "output_type": "execute_result",
     "data": {
      "text/plain": "6.0"
     },
     "metadata": {},
     "execution_count": 3
    }
   ],
   "source": [
    "L1 = norm(u, 1)\n",
    "L1"
   ]
  },
  {
   "cell_type": "code",
   "execution_count": 4,
   "metadata": {},
   "outputs": [
    {
     "output_type": "execute_result",
     "data": {
      "text/plain": "3.7416573867739413"
     },
     "metadata": {},
     "execution_count": 4
    }
   ],
   "source": [
    "L2 = norm(u)\n",
    "L2"
   ]
  },
  {
   "cell_type": "code",
   "execution_count": 5,
   "metadata": {},
   "outputs": [
    {
     "output_type": "execute_result",
     "data": {
      "text/plain": "3.0"
     },
     "metadata": {},
     "execution_count": 5
    }
   ],
   "source": [
    "max_norm = norm(u, math.inf)\n",
    "max_norm"
   ]
  },
  {
   "cell_type": "code",
   "execution_count": 11,
   "metadata": {},
   "outputs": [
    {
     "output_type": "execute_result",
     "data": {
      "text/plain": "array([[ 8,  7],\n       [29, 40],\n       [13, 13]])"
     },
     "metadata": {},
     "execution_count": 11
    }
   ],
   "source": [
    "A = np.array(\n",
    "[[1, 2],\n",
    " [7, 5],\n",
    " [2, 3]])\n",
    "B = np.array(\n",
    "[[2, 5],\n",
    " [3, 1]])\n",
    "C = A @ B\n",
    "C"
   ]
  },
  {
   "cell_type": "code",
   "execution_count": 14,
   "metadata": {},
   "outputs": [
    {
     "output_type": "execute_result",
     "data": {
      "text/plain": "array([[ 2,  4],\n       [14, 10],\n       [ 4,  6]])"
     },
     "metadata": {},
     "execution_count": 14
    }
   ],
   "source": [
    "D = A.dot(2)\n",
    "D"
   ]
  },
  {
   "cell_type": "code",
   "execution_count": 20,
   "metadata": {
    "tags": []
   },
   "outputs": [
    {
     "output_type": "stream",
     "name": "stdout",
     "text": "[1 5]\n[[1 0]\n [0 5]]\n"
    }
   ],
   "source": [
    "d = np.diag(A)\n",
    "print(d)\n",
    "di = np.diag(d)\n",
    "print(di)"
   ]
  },
  {
   "cell_type": "code",
   "execution_count": 21,
   "metadata": {},
   "outputs": [
    {
     "output_type": "execute_result",
     "data": {
      "text/plain": "array([[1., 0., 0., 0., 0.],\n       [0., 1., 0., 0., 0.],\n       [0., 0., 1., 0., 0.],\n       [0., 0., 0., 1., 0.],\n       [0., 0., 0., 0., 1.]])"
     },
     "metadata": {},
     "execution_count": 21
    }
   ],
   "source": [
    "I = np.identity(5)\n",
    "I"
   ]
  },
  {
   "cell_type": "code",
   "execution_count": 23,
   "metadata": {},
   "outputs": [
    {
     "output_type": "execute_result",
     "data": {
      "text/plain": "array([[1, 7, 2],\n       [2, 5, 3]])"
     },
     "metadata": {},
     "execution_count": 23
    }
   ],
   "source": [
    "At = A.transpose()\n",
    "At"
   ]
  },
  {
   "cell_type": "code",
   "execution_count": 33,
   "metadata": {
    "tags": []
   },
   "outputs": [
    {
     "output_type": "stream",
     "name": "stdout",
     "text": "[[-1.625  0.125  0.875]\n [ 3.375  0.125 -2.125]\n [-1.375 -0.125  1.125]]\n[[ 1.00000000e+00  8.32667268e-17 -6.66133815e-16]\n [ 3.55271368e-15  1.00000000e+00  0.00000000e+00]\n [ 4.44089210e-16  2.77555756e-17  1.00000000e+00]]\n"
    }
   ],
   "source": [
    "C = np.array(\n",
    "[[1, 2, 3],\n",
    " [7, 5, 4],\n",
    " [2, 3, 5]])\n",
    "Ci = np.linalg.inv(C)\n",
    "print(Ci)\n",
    "\n",
    "R = C @ Ci\n",
    "print(R)"
   ]
  },
  {
   "cell_type": "code",
   "execution_count": 35,
   "metadata": {},
   "outputs": [
    {
     "output_type": "execute_result",
     "data": {
      "text/plain": "-7.999999999999995"
     },
     "metadata": {},
     "execution_count": 35
    }
   ],
   "source": [
    "detC = np.linalg.det(C)\n",
    "detC"
   ]
  },
  {
   "cell_type": "code",
   "execution_count": null,
   "metadata": {},
   "outputs": [],
   "source": []
  }
 ],
 "metadata": {
  "kernelspec": {
   "name": "Python 3.8.4 64-bit",
   "display_name": "Python 3.8.4 64-bit",
   "metadata": {
    "interpreter": {
     "hash": "aee8b7b246df8f9039afb4144a1f6fd8d2ca17a180786b69acc140d282b71a49"
    }
   }
  }
 },
 "nbformat": 4,
 "nbformat_minor": 4
}
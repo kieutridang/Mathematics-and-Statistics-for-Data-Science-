{
 "cells": [
  {
   "cell_type": "markdown",
   "metadata": {},
   "source": [
    "# Ex3: Derivatve Rules"
   ]
  },
  {
   "cell_type": "markdown",
   "metadata": {},
   "source": [
    "### Câu 1: Cho $f(x) = 4x^3 + 3x^2$ và $ g(x) = 5x^6 + 4x $. \n",
    "1. Product Rule: Tính đạo hàm $(fg)'$ và $ f'g' $ với x = 2\n",
    "2. Quotient Rule: Tính $\\displaystyle(\\frac{f}{g})'$ và $\\displaystyle\\frac{f'}{g'}$ với x=2"
   ]
  },
  {
   "cell_type": "markdown",
   "metadata": {},
   "source": [
    "### Câu 2: Cho $h(x) = \\sqrt[3]{{{x^2}}}\\left( {2x - {x^2}} \\right)$ và $k\\left( x \\right) = \\left( {6{x^3} - x} \\right)\\left( {10 - 20x} \\right)$\n",
    "1. Product Rule: Tính đạo hàm $(hk)'$ và $ h'k' $ với x = 3\n",
    "2. Quotient Rule: Tính $\\displaystyle(\\frac{h}{k})'$ và $\\displaystyle\\frac{h'}{k'}$ với x = 3 "
   ]
  },
  {
   "cell_type": "markdown",
   "metadata": {},
   "source": [
    "### Câu 3: Cho $\\displaystyle w\\left( x \\right) = \\frac{4}{{{x^6}}}$ và $\\displaystyle t(x) = \\frac{{{x^6}}}{5}$\n",
    "1. Product Rule: Tính đạo hàm $(wt)'$ và $ w't' $ với x = 3\n",
    "2. Quotient Rule: Tính $\\displaystyle(\\frac{w}{t})'$ và $\\displaystyle\\frac{w'}{t'}$ với x = 3 \n",
    "***"
   ]
  },
  {
   "cell_type": "markdown",
   "metadata": {},
   "source": [
    "### Câu 1:"
   ]
  },
  {
   "cell_type": "code",
   "execution_count": 1,
   "metadata": {},
   "outputs": [],
   "source": [
    "import sympy\n",
    "from scipy.misc import derivative"
   ]
  },
  {
   "cell_type": "code",
   "execution_count": 2,
   "metadata": {},
   "outputs": [],
   "source": [
    "# Solution 1\n",
    "x = sympy.Symbol('x')\n",
    "y = sympy.Symbol('y')"
   ]
  },
  {
   "cell_type": "code",
   "execution_count": 3,
   "metadata": {},
   "outputs": [
    {
     "output_type": "execute_result",
     "data": {
      "text/plain": [
       "12*x**2 + 6*x"
      ],
      "text/latex": "$\\displaystyle 12 x^{2} + 6 x$"
     },
     "metadata": {},
     "execution_count": 3
    }
   ],
   "source": [
    "f_f = 4*(x**3) + 3*(x**2)\n",
    "f_prime = sympy.diff(f_f, x)\n",
    "f_prime"
   ]
  },
  {
   "cell_type": "code",
   "execution_count": 4,
   "metadata": {},
   "outputs": [
    {
     "output_type": "execute_result",
     "data": {
      "text/plain": [
       "30*x**5 + 4"
      ],
      "text/latex": "$\\displaystyle 30 x^{5} + 4$"
     },
     "metadata": {},
     "execution_count": 4
    }
   ],
   "source": [
    "g_f = 5*(x**6) + 4*x\n",
    "g_prime = sympy.diff(g_f, x)\n",
    "g_prime"
   ]
  },
  {
   "cell_type": "code",
   "execution_count": 5,
   "metadata": {},
   "outputs": [
    {
     "output_type": "execute_result",
     "data": {
      "text/plain": [
       "(12*x**2 + 6*x)*(5*x**6 + 4*x) + (4*x**3 + 3*x**2)*(30*x**5 + 4)"
      ],
      "text/latex": "$\\displaystyle \\left(12 x^{2} + 6 x\\right) \\left(5 x^{6} + 4 x\\right) + \\left(4 x^{3} + 3 x^{2}\\right) \\left(30 x^{5} + 4\\right)$"
     },
     "metadata": {},
     "execution_count": 5
    }
   ],
   "source": [
    "fg_f = (4*(x**3) + 3*(x**2)) * (5*(x**6) + 4*x) \n",
    "fg_prime = sympy.diff(fg_f, x)\n",
    "fg_prime"
   ]
  },
  {
   "cell_type": "code",
   "execution_count": 6,
   "metadata": {},
   "outputs": [
    {
     "output_type": "execute_result",
     "data": {
      "text/plain": [
       "62096"
      ],
      "text/latex": "$\\displaystyle 62096$"
     },
     "metadata": {},
     "execution_count": 6
    }
   ],
   "source": [
    "fg_prime_value =fg_prime.subs({x:2})\n",
    "fg_prime_value"
   ]
  },
  {
   "cell_type": "code",
   "execution_count": 7,
   "metadata": {},
   "outputs": [
    {
     "output_type": "execute_result",
     "data": {
      "text/plain": [
       "60"
      ],
      "text/latex": "$\\displaystyle 60$"
     },
     "metadata": {},
     "execution_count": 7
    }
   ],
   "source": [
    "f_prime_value = f_prime.subs({x:2})\n",
    "f_prime_value"
   ]
  },
  {
   "cell_type": "code",
   "execution_count": 8,
   "metadata": {},
   "outputs": [
    {
     "output_type": "execute_result",
     "data": {
      "text/plain": [
       "964"
      ],
      "text/latex": "$\\displaystyle 964$"
     },
     "metadata": {},
     "execution_count": 8
    }
   ],
   "source": [
    "g_prime_value = g_prime.subs({x:2})\n",
    "g_prime_value"
   ]
  },
  {
   "cell_type": "code",
   "execution_count": 9,
   "metadata": {},
   "outputs": [
    {
     "output_type": "execute_result",
     "data": {
      "text/plain": [
       "57840"
      ],
      "text/latex": "$\\displaystyle 57840$"
     },
     "metadata": {},
     "execution_count": 9
    }
   ],
   "source": [
    "fprime_gprime = f_prime_value * g_prime_value\n",
    "fprime_gprime"
   ]
  },
  {
   "cell_type": "code",
   "execution_count": 10,
   "metadata": {},
   "outputs": [],
   "source": [
    "# Solution 2:\n",
    "def f(x):\n",
    "    return 4*(x**3) + 3*(x**2)\n",
    "def g(x):\n",
    "    return 5*(x**6) + 4*x"
   ]
  },
  {
   "cell_type": "code",
   "execution_count": 11,
   "metadata": {},
   "outputs": [
    {
     "output_type": "execute_result",
     "data": {
      "text/plain": [
       "62096.008264234115"
      ]
     },
     "metadata": {},
     "execution_count": 11
    }
   ],
   "source": [
    "x = 2\n",
    "fg_prime_of_x = derivative(f, x, dx=1e-10)*g(x) + f(x)*derivative(g, x, dx=1e-10)\n",
    "fg_prime_of_x"
   ]
  },
  {
   "cell_type": "code",
   "execution_count": 12,
   "metadata": {},
   "outputs": [
    {
     "output_type": "execute_result",
     "data": {
      "text/plain": [
       "57840.01383466328"
      ]
     },
     "metadata": {},
     "execution_count": 12
    }
   ],
   "source": [
    "f_prime_g_prime_of_x = derivative(f, x, dx=1e-10) * derivative(g, x, dx=1e-10)\n",
    "f_prime_g_prime_of_x"
   ]
  },
  {
   "cell_type": "markdown",
   "metadata": {},
   "source": [
    "### Câu 2:"
   ]
  },
  {
   "cell_type": "code",
   "execution_count": 13,
   "metadata": {},
   "outputs": [],
   "source": [
    "# Solution 1\n",
    "x = sympy.Symbol('x')\n",
    "y = sympy.Symbol('y')"
   ]
  },
  {
   "cell_type": "code",
   "execution_count": 14,
   "metadata": {},
   "outputs": [
    {
     "output_type": "execute_result",
     "data": {
      "text/plain": [
       "0.666666666666667*x**(-0.333333333333333)*(-x**2 + 2*x) + x**0.666666666666667*(2 - 2*x)"
      ],
      "text/latex": "$\\displaystyle \\frac{0.666666666666667 \\left(- x^{2} + 2 x\\right)}{x^{0.333333333333333}} + x^{0.666666666666667} \\left(2 - 2 x\\right)$"
     },
     "metadata": {},
     "execution_count": 14
    }
   ],
   "source": [
    "h_f = x**(2/3) * (2*x - x**2)\n",
    "h_prime = sympy.diff(h_f, x)\n",
    "h_prime"
   ]
  },
  {
   "cell_type": "code",
   "execution_count": 15,
   "metadata": {},
   "outputs": [
    {
     "output_type": "execute_result",
     "data": {
      "text/plain": [
       "60*x**3 - 10*x + (10*x - 20)*(18*x**2 - 1)"
      ],
      "text/latex": "$\\displaystyle 60 x^{3} - 10 x + \\left(10 x - 20\\right) \\left(18 x^{2} - 1\\right)$"
     },
     "metadata": {},
     "execution_count": 15
    }
   ],
   "source": [
    "k_f = (6*x**3 - x) * (10*x - 20)\n",
    "k_prime = sympy.diff(k_f, x)\n",
    "k_prime"
   ]
  },
  {
   "cell_type": "code",
   "execution_count": 16,
   "metadata": {},
   "outputs": [
    {
     "output_type": "execute_result",
     "data": {
      "text/plain": [
       "0.666666666666667*x**(-0.333333333333333)*(10*x - 20)*(-x**2 + 2*x)*(6*x**3 - x) + x**0.666666666666667*(2 - 2*x)*(10*x - 20)*(6*x**3 - x) + x**0.666666666666667*(10*x - 20)*(-x**2 + 2*x)*(18*x**2 - 1) + 10*x**0.666666666666667*(-x**2 + 2*x)*(6*x**3 - x)"
      ],
      "text/latex": "$\\displaystyle \\frac{0.666666666666667 \\left(10 x - 20\\right) \\left(- x^{2} + 2 x\\right) \\left(6 x^{3} - x\\right)}{x^{0.333333333333333}} + x^{0.666666666666667} \\left(2 - 2 x\\right) \\left(10 x - 20\\right) \\left(6 x^{3} - x\\right) + x^{0.666666666666667} \\left(10 x - 20\\right) \\left(- x^{2} + 2 x\\right) \\left(18 x^{2} - 1\\right) + 10 x^{0.666666666666667} \\left(- x^{2} + 2 x\\right) \\left(6 x^{3} - x\\right)$"
     },
     "metadata": {},
     "execution_count": 16
    }
   ],
   "source": [
    "hk_f = (x**(2/3) * (2*x - x**2)) * ((6*x**3 - x) * (10*x - 20))\n",
    "hk_prime = sympy.diff(hk_f, x)\n",
    "hk_prime"
   ]
  },
  {
   "cell_type": "code",
   "execution_count": 17,
   "metadata": {},
   "outputs": [
    {
     "output_type": "execute_result",
     "data": {
      "text/plain": [
       "-35403.0266683434"
      ],
      "text/latex": "$\\displaystyle -35403.0266683434$"
     },
     "metadata": {},
     "execution_count": 17
    }
   ],
   "source": [
    "hk_prime_value =hk_prime.subs({x:3})\n",
    "hk_prime_value"
   ]
  },
  {
   "cell_type": "code",
   "execution_count": 18,
   "metadata": {},
   "outputs": [
    {
     "output_type": "execute_result",
     "data": {
      "text/plain": [
       "-9.70705784090889"
      ],
      "text/latex": "$\\displaystyle -9.70705784090889$"
     },
     "metadata": {},
     "execution_count": 18
    }
   ],
   "source": [
    "h_prime_value = h_prime.subs({x:3})\n",
    "h_prime_value"
   ]
  },
  {
   "cell_type": "code",
   "execution_count": 19,
   "metadata": {},
   "outputs": [
    {
     "output_type": "execute_result",
     "data": {
      "text/plain": [
       "3200"
      ],
      "text/latex": "$\\displaystyle 3200$"
     },
     "metadata": {},
     "execution_count": 19
    }
   ],
   "source": [
    "k_prime_value = k_prime.subs({x:3})\n",
    "k_prime_value"
   ]
  },
  {
   "cell_type": "code",
   "execution_count": 20,
   "metadata": {},
   "outputs": [
    {
     "output_type": "execute_result",
     "data": {
      "text/plain": [
       "-31062.5850909084"
      ],
      "text/latex": "$\\displaystyle -31062.5850909084$"
     },
     "metadata": {},
     "execution_count": 20
    }
   ],
   "source": [
    "hprime_kprime = h_prime_value * k_prime_value\n",
    "hprime_kprime"
   ]
  },
  {
   "cell_type": "code",
   "execution_count": 21,
   "metadata": {},
   "outputs": [],
   "source": [
    "# Solution 2\n",
    "def h(x):\n",
    "    return x**(2/3) * (2*x - x**2)\n",
    "def k(x):\n",
    "    return (6*x**3 - x) * (10*x - 20)"
   ]
  },
  {
   "cell_type": "code",
   "execution_count": 22,
   "metadata": {},
   "outputs": [
    {
     "output_type": "execute_result",
     "data": {
      "text/plain": [
       "-35403.03464894355"
      ]
     },
     "metadata": {},
     "execution_count": 22
    }
   ],
   "source": [
    "x = 3\n",
    "hk_prime_of_x = derivative(h, x, dx=1e-10)*k(x) + h(x)*derivative(k, x, dx=1e-10)\n",
    "hk_prime_of_x"
   ]
  },
  {
   "cell_type": "code",
   "execution_count": 23,
   "metadata": {},
   "outputs": [
    {
     "output_type": "execute_result",
     "data": {
      "text/plain": [
       "-31062.600397389157"
      ]
     },
     "metadata": {},
     "execution_count": 23
    }
   ],
   "source": [
    "h_prime_k_prime_of_x = derivative(h, x, dx=1e-10) * derivative(k, x, dx=1e-10)\n",
    "h_prime_k_prime_of_x"
   ]
  },
  {
   "cell_type": "markdown",
   "metadata": {},
   "source": [
    "### Câu 3:"
   ]
  },
  {
   "cell_type": "code",
   "execution_count": 24,
   "metadata": {},
   "outputs": [
    {
     "output_type": "execute_result",
     "data": {
      "text/plain": [
       "4/x**6"
      ],
      "text/latex": "$\\displaystyle \\frac{4}{x^{6}}$"
     },
     "metadata": {},
     "execution_count": 24
    }
   ],
   "source": [
    "# Các bạn suy nghĩ và giải quyết nha!\n",
    "x = sympy.Symbol('x')\n",
    "y = sympy.Symbol('y')\n",
    "\n",
    "#solution 1.1\n",
    "w = 4 / x**6\n",
    "w"
   ]
  },
  {
   "cell_type": "code",
   "execution_count": 25,
   "metadata": {},
   "outputs": [
    {
     "output_type": "execute_result",
     "data": {
      "text/plain": [
       "x**6/5"
      ],
      "text/latex": "$\\displaystyle \\frac{x^{6}}{5}$"
     },
     "metadata": {},
     "execution_count": 25
    }
   ],
   "source": [
    "t = x**6 / 5\n",
    "t"
   ]
  },
  {
   "cell_type": "code",
   "execution_count": 26,
   "metadata": {},
   "outputs": [
    {
     "output_type": "execute_result",
     "data": {
      "text/plain": [
       "-24/x**7"
      ],
      "text/latex": "$\\displaystyle - \\frac{24}{x^{7}}$"
     },
     "metadata": {},
     "execution_count": 26
    }
   ],
   "source": [
    "w_prime = sympy.diff(w, x)\n",
    "w_prime"
   ]
  },
  {
   "cell_type": "code",
   "execution_count": 27,
   "metadata": {},
   "outputs": [
    {
     "output_type": "execute_result",
     "data": {
      "text/plain": [
       "6*x**5/5"
      ],
      "text/latex": "$\\displaystyle \\frac{6 x^{5}}{5}$"
     },
     "metadata": {},
     "execution_count": 27
    }
   ],
   "source": [
    "t_prime = sympy.diff(t, x)\n",
    "t_prime"
   ]
  },
  {
   "cell_type": "code",
   "execution_count": 28,
   "metadata": {},
   "outputs": [
    {
     "output_type": "execute_result",
     "data": {
      "text/plain": [
       "4/5"
      ],
      "text/latex": "$\\displaystyle \\frac{4}{5}$"
     },
     "metadata": {},
     "execution_count": 28
    }
   ],
   "source": [
    "wt = w * t\n",
    "wt"
   ]
  },
  {
   "cell_type": "code",
   "execution_count": 29,
   "metadata": {},
   "outputs": [
    {
     "output_type": "execute_result",
     "data": {
      "text/plain": [
       "0"
      ],
      "text/latex": "$\\displaystyle 0$"
     },
     "metadata": {},
     "execution_count": 29
    }
   ],
   "source": [
    "wt_prime = sympy.diff(wt)\n",
    "wt_prime"
   ]
  },
  {
   "cell_type": "code",
   "execution_count": 30,
   "metadata": {},
   "outputs": [
    {
     "output_type": "execute_result",
     "data": {
      "text/plain": [
       "-144/(5*x**2)"
      ],
      "text/latex": "$\\displaystyle - \\frac{144}{5 x^{2}}$"
     },
     "metadata": {},
     "execution_count": 30
    }
   ],
   "source": [
    "w_prime_t_prime = w_prime * t_prime\n",
    "w_prime_t_prime"
   ]
  },
  {
   "cell_type": "code",
   "execution_count": 31,
   "metadata": {},
   "outputs": [
    {
     "output_type": "execute_result",
     "data": {
      "text/plain": [
       "-16/5"
      ],
      "text/latex": "$\\displaystyle - \\frac{16}{5}$"
     },
     "metadata": {},
     "execution_count": 31
    }
   ],
   "source": [
    "w_prime_t_prime_r = w_prime_t_prime.subs({ x: 3 })\n",
    "w_prime_t_prime_r"
   ]
  },
  {
   "cell_type": "code",
   "execution_count": 32,
   "metadata": {},
   "outputs": [],
   "source": [
    "# solution 1.2\n",
    "def w(x):\n",
    "    return 4 / x**6\n",
    "def t(x):\n",
    "    return x**6 / 5"
   ]
  },
  {
   "cell_type": "code",
   "execution_count": 33,
   "metadata": {},
   "outputs": [
    {
     "output_type": "execute_result",
     "data": {
      "text/plain": [
       "-9.301473080647327e-08"
      ]
     },
     "metadata": {},
     "execution_count": 33
    }
   ],
   "source": [
    "x = 3\n",
    "dx = 1e-10\n",
    "wt_p = derivative(w, x, dx)*t(x) + derivative(t, x, dx)*w(x)\n",
    "wt_p"
   ]
  },
  {
   "cell_type": "code",
   "execution_count": 34,
   "metadata": {},
   "outputs": [
    {
     "output_type": "execute_result",
     "data": {
      "text/plain": [
       "-3.1999983763326947"
      ]
     },
     "metadata": {},
     "execution_count": 34
    }
   ],
   "source": [
    "x = 3\n",
    "dx = 1e-10\n",
    "w_p_t_p = derivative(w, x, dx) * derivative(t, x, dx)\n",
    "w_p_t_p"
   ]
  },
  {
   "cell_type": "code",
   "execution_count": 35,
   "metadata": {},
   "outputs": [],
   "source": [
    "# solution 2.1\n",
    "# Derivative of (w(x)/t(x))' = (w'(x)t(x) - w(x)t'(x)) / t(x)^2\n",
    "x = sympy.Symbol('x')\n",
    "\n",
    "w = 4 / x**6\n",
    "t = x**6 / 5"
   ]
  },
  {
   "cell_type": "code",
   "execution_count": 36,
   "metadata": {},
   "outputs": [
    {
     "output_type": "execute_result",
     "data": {
      "text/plain": [
       "-24/x**7"
      ],
      "text/latex": "$\\displaystyle - \\frac{24}{x^{7}}$"
     },
     "metadata": {},
     "execution_count": 36
    }
   ],
   "source": [
    "w_p = sympy.diff(w, x)\n",
    "w_p"
   ]
  },
  {
   "cell_type": "code",
   "execution_count": 37,
   "metadata": {},
   "outputs": [
    {
     "output_type": "execute_result",
     "data": {
      "text/plain": [
       "6*x**5/5"
      ],
      "text/latex": "$\\displaystyle \\frac{6 x^{5}}{5}$"
     },
     "metadata": {},
     "execution_count": 37
    }
   ],
   "source": [
    "t_p = sympy.diff(t, x)\n",
    "t_p"
   ]
  },
  {
   "cell_type": "code",
   "execution_count": 38,
   "metadata": {},
   "outputs": [
    {
     "output_type": "execute_result",
     "data": {
      "text/plain": [
       "-240/x**13"
      ],
      "text/latex": "$\\displaystyle - \\frac{240}{x^{13}}$"
     },
     "metadata": {},
     "execution_count": 38
    }
   ],
   "source": [
    "w_d_t = w / t\n",
    "w_d_t_p = sympy.diff(w_d_t, x)\n",
    "w_d_t_p"
   ]
  },
  {
   "cell_type": "code",
   "execution_count": 39,
   "metadata": {},
   "outputs": [
    {
     "output_type": "execute_result",
     "data": {
      "text/plain": [
       "-80/531441"
      ],
      "text/latex": "$\\displaystyle - \\frac{80}{531441}$"
     },
     "metadata": {},
     "execution_count": 39
    }
   ],
   "source": [
    "w_d_t_p_r = w_d_t_p.subs({ x: 3})\n",
    "w_d_t_p_r"
   ]
  },
  {
   "cell_type": "code",
   "execution_count": 41,
   "metadata": {},
   "outputs": [
    {
     "output_type": "execute_result",
     "data": {
      "text/plain": [
       "-20/x**12"
      ],
      "text/latex": "$\\displaystyle - \\frac{20}{x^{12}}$"
     },
     "metadata": {},
     "execution_count": 41
    }
   ],
   "source": [
    "w_p_d_t_p = w_p / t_p\n",
    "w_p_d_t_p"
   ]
  },
  {
   "cell_type": "code",
   "execution_count": 43,
   "metadata": {},
   "outputs": [
    {
     "output_type": "execute_result",
     "data": {
      "text/plain": [
       "-20/531441"
      ],
      "text/latex": "$\\displaystyle - \\frac{20}{531441}$"
     },
     "metadata": {},
     "execution_count": 43
    }
   ],
   "source": [
    "w_p_d_t_p_r = w_p_d_t_p.subs({ x: 3 })\n",
    "w_p_d_t_p_r"
   ]
  },
  {
   "cell_type": "code",
   "execution_count": null,
   "metadata": {},
   "outputs": [],
   "source": []
  }
 ],
 "metadata": {
  "kernelspec": {
   "name": "Python 3.8.5 64-bit",
   "display_name": "Python 3.8.5 64-bit",
   "metadata": {
    "interpreter": {
     "hash": "aee8b7b246df8f9039afb4144a1f6fd8d2ca17a180786b69acc140d282b71a49"
    }
   }
  },
  "language_info": {
   "codemirror_mode": {
    "name": "ipython",
    "version": 3
   },
   "file_extension": ".py",
   "mimetype": "text/x-python",
   "name": "python",
   "nbconvert_exporter": "python",
   "pygments_lexer": "ipython3",
   "version": "3.8.5-final"
  }
 },
 "nbformat": 4,
 "nbformat_minor": 2
}
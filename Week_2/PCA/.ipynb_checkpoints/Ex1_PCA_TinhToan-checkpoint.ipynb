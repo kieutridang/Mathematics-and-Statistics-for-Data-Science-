{
 "cells": [
  {
   "cell_type": "markdown",
   "metadata": {},
   "source": [
    "# Ex1: Tính toán \n",
    "- Tạo một ma trận A(3000, 3) có các giá trị ngẫu nhiên từ 1 đến 255\n",
    "- Áp dụng tính toán PCA\n",
    "- Trực quan hóa kết quả"
   ]
  },
  {
   "cell_type": "code",
   "execution_count": 1,
   "metadata": {},
   "outputs": [],
   "source": [
    "import numpy as np"
   ]
  },
  {
   "cell_type": "code",
   "execution_count": 2,
   "metadata": {},
   "outputs": [
    {
     "data": {
      "text/plain": [
       "(3000, 3)"
      ]
     },
     "execution_count": 2,
     "metadata": {},
     "output_type": "execute_result"
    }
   ],
   "source": [
    "A = np.random.randint(1,256,(3000,3))\n",
    "A.shape"
   ]
  },
  {
   "cell_type": "code",
   "execution_count": 3,
   "metadata": {},
   "outputs": [
    {
     "data": {
      "text/plain": [
       "array([[217, 172, 237],\n",
       "       [ 31, 243,  68],\n",
       "       [107, 140,  81],\n",
       "       [148, 105, 221],\n",
       "       [247,  49,  22],\n",
       "       [223, 158,  65],\n",
       "       [249,  97, 140],\n",
       "       [  6,  11,   1],\n",
       "       [ 87,  84,  43],\n",
       "       [187,  85,  53]])"
      ]
     },
     "execution_count": 3,
     "metadata": {},
     "output_type": "execute_result"
    }
   ],
   "source": [
    "A[0:10]"
   ]
  },
  {
   "cell_type": "code",
   "execution_count": 4,
   "metadata": {},
   "outputs": [
    {
     "data": {
      "text/plain": [
       "array([127.61933333, 126.69933333, 126.80733333])"
      ]
     },
     "execution_count": 4,
     "metadata": {},
     "output_type": "execute_result"
    }
   ],
   "source": [
    "# colmns' means\n",
    "M = np.mean(A.T, axis = 1)\n",
    "M"
   ]
  },
  {
   "cell_type": "code",
   "execution_count": 12,
   "metadata": {},
   "outputs": [
    {
     "data": {
      "text/plain": [
       "array([127.61933333, 126.69933333, 126.80733333])"
      ]
     },
     "execution_count": 12,
     "metadata": {},
     "output_type": "execute_result"
    }
   ],
   "source": [
    "M1 = np.mean(A, axis = 0)\n",
    "M1"
   ]
  },
  {
   "cell_type": "code",
   "execution_count": 6,
   "metadata": {},
   "outputs": [
    {
     "data": {
      "text/plain": [
       "array([[  89.38066667,   45.30066667,  110.19266667],\n",
       "       [ -96.61933333,  116.30066667,  -58.80733333],\n",
       "       [ -20.61933333,   13.30066667,  -45.80733333],\n",
       "       [  20.38066667,  -21.69933333,   94.19266667],\n",
       "       [ 119.38066667,  -77.69933333, -104.80733333],\n",
       "       [  95.38066667,   31.30066667,  -61.80733333],\n",
       "       [ 121.38066667,  -29.69933333,   13.19266667],\n",
       "       [-121.61933333, -115.69933333, -125.80733333],\n",
       "       [ -40.61933333,  -42.69933333,  -83.80733333],\n",
       "       [  59.38066667,  -41.69933333,  -73.80733333]])"
      ]
     },
     "execution_count": 6,
     "metadata": {},
     "output_type": "execute_result"
    }
   ],
   "source": [
    "# center columns by subtracting column means\n",
    "C = A - M\n",
    "C[0:10]"
   ]
  },
  {
   "cell_type": "code",
   "execution_count": 7,
   "metadata": {},
   "outputs": [],
   "source": [
    "# calculate covariance matrix of centered matrix\n",
    "V = np.cov(C.T)"
   ]
  },
  {
   "cell_type": "code",
   "execution_count": 8,
   "metadata": {},
   "outputs": [
    {
     "data": {
      "text/plain": [
       "array([[5498.22583483,  -74.7033549 ,  -45.02401645],\n",
       "       [ -74.7033549 , 5448.77052306, -130.78819117],\n",
       "       [ -45.02401645, -130.78819117, 5412.8858415 ]])"
      ]
     },
     "execution_count": 8,
     "metadata": {},
     "output_type": "execute_result"
    }
   ],
   "source": [
    "V[0:10]"
   ]
  },
  {
   "cell_type": "code",
   "execution_count": 9,
   "metadata": {},
   "outputs": [
    {
     "data": {
      "text/plain": [
       "array([5268.48472793, 5515.14532378, 5576.25214769])"
      ]
     },
     "execution_count": 9,
     "metadata": {},
     "output_type": "execute_result"
    }
   ],
   "source": [
    "# factorize covariance matrix\n",
    "values, vectors = np.linalg.eig(V)\n",
    "values"
   ]
  },
  {
   "cell_type": "code",
   "execution_count": 10,
   "metadata": {},
   "outputs": [
    {
     "data": {
      "text/plain": [
       "array([[ 0.34293665,  0.82738013,  0.44478824],\n",
       "       [ 0.64054825,  0.14036916, -0.75497976],\n",
       "       [ 0.6870898 , -0.54381856,  0.48183916]])"
      ]
     },
     "execution_count": 10,
     "metadata": {},
     "output_type": "execute_result"
    }
   ],
   "source": [
    "vectors[0:10]"
   ]
  },
  {
   "cell_type": "code",
   "execution_count": 11,
   "metadata": {},
   "outputs": [
    {
     "name": "stdout",
     "output_type": "stream",
     "text": [
      "[[ 135.38142653   20.38578613   58.64952546]\n",
      " [   0.95595898  -31.63537015 -159.11546937]\n",
      " [ -30.02515788    9.71785489  -41.28473833]\n",
      " ...\n",
      " [-134.66623887  -15.8160088   -14.27981334]\n",
      " [ 188.40495855   48.55435905   14.83130378]\n",
      " [ -76.26252944  -58.04700408  -41.45608539]]\n"
     ]
    }
   ],
   "source": [
    "# project data\n",
    "P = vectors.T.dot(C.T)\n",
    "print(P.T)"
   ]
  },
  {
   "cell_type": "code",
   "execution_count": null,
   "metadata": {},
   "outputs": [],
   "source": [
    "P2="
   ]
  }
 ],
 "metadata": {
  "kernelspec": {
   "display_name": "Python 3",
   "language": "python",
   "name": "python3"
  },
  "language_info": {
   "codemirror_mode": {
    "name": "ipython",
    "version": 3
   },
   "file_extension": ".py",
   "mimetype": "text/x-python",
   "name": "python",
   "nbconvert_exporter": "python",
   "pygments_lexer": "ipython3",
   "version": "3.6.8"
  }
 },
 "nbformat": 4,
 "nbformat_minor": 2
}

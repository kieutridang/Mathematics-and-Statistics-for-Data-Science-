{
 "cells": [
  {
   "cell_type": "markdown",
   "metadata": {},
   "source": [
    "# Ex4: Definite Integral (Tích phân xác định)"
   ]
  },
  {
   "cell_type": "markdown",
   "metadata": {},
   "source": [
    "### Tính:\n",
    "1. $\\displaystyle \\int_{{\\,0}}^{{\\,2}}{{10{x^2} + 10\\,dx}}$ \n",
    "2. $ \\displaystyle \\int_{{\\,{2}}}^{{\\,4}}{{\\frac{{{t^4} + 1}}{{{t^2} + 1}}\\,dt}}$\n",
    "3. $ \\displaystyle \\int_{{\\,{y=1}}}^{{\\,2}} \\int_{{\\,{x=0}}}^{{\\,3}} (1+8xy)\\,dx\\,dy $\n",
    "4. $ \\displaystyle \\int_{{\\,{0}}}^{{\\,\\pi/2}} \\int_{{\\,{0}}}^{{\\,1}} y\\,sinx\\,dy\\,dx $\n",
    "5. $ \\displaystyle \\int_{{\\,{0}}}^{{\\,2}} \\int_{{\\,{x^2}}}^{{\\,x}} y^2x\\,dy\\,dx $\n",
    "6. $ \\displaystyle \\int_{{\\,{1}}}^{{\\,4}} \\int_{{\\,{0}}}^{{\\,\\sqrt{y}}} e^{x/\\sqrt{y}}\\,dx\\,dy $"
   ]
  },
  {
   "cell_type": "markdown",
   "metadata": {},
   "source": [
    "### Câu 1: "
   ]
  },
  {
   "cell_type": "code",
   "execution_count": 1,
   "metadata": {},
   "outputs": [],
   "source": [
    "import scipy.integrate\n",
    "import numpy as np"
   ]
  },
  {
   "cell_type": "code",
   "execution_count": 2,
   "metadata": {},
   "outputs": [],
   "source": [
    "f = lambda x: (10*x**2)+10"
   ]
  },
  {
   "cell_type": "code",
   "execution_count": 3,
   "metadata": {},
   "outputs": [
    {
     "data": {
      "text/plain": [
       "46.666666666666664"
      ]
     },
     "execution_count": 3,
     "metadata": {},
     "output_type": "execute_result"
    }
   ],
   "source": [
    "i, e = scipy.integrate.quad(f, 0, 2)\n",
    "i"
   ]
  },
  {
   "cell_type": "markdown",
   "metadata": {},
   "source": [
    "### Câu 2: "
   ]
  },
  {
   "cell_type": "code",
   "execution_count": 4,
   "metadata": {},
   "outputs": [],
   "source": [
    "g = lambda t: (t**4 + 1)/(t**2 + 1)"
   ]
  },
  {
   "cell_type": "code",
   "execution_count": 5,
   "metadata": {},
   "outputs": [
    {
     "data": {
      "text/plain": [
       "17.104004558414548"
      ]
     },
     "execution_count": 5,
     "metadata": {},
     "output_type": "execute_result"
    }
   ],
   "source": [
    "i, e = scipy.integrate.quad(g, 2, 4)\n",
    "i"
   ]
  },
  {
   "cell_type": "markdown",
   "metadata": {},
   "source": [
    "### Câu 3:"
   ]
  },
  {
   "cell_type": "code",
   "execution_count": 6,
   "metadata": {},
   "outputs": [],
   "source": [
    "f = lambda x,y: 1 + 8*x*y\n",
    "g = lambda x:0\n",
    "h = lambda x:3"
   ]
  },
  {
   "cell_type": "code",
   "execution_count": 7,
   "metadata": {},
   "outputs": [
    {
     "data": {
      "text/plain": [
       "56.99999999999999"
      ]
     },
     "execution_count": 7,
     "metadata": {},
     "output_type": "execute_result"
    }
   ],
   "source": [
    "i, e = scipy.integrate.dblquad(f, 1,2, g, h)\n",
    "i"
   ]
  },
  {
   "cell_type": "markdown",
   "metadata": {},
   "source": [
    "### Câu 4:"
   ]
  },
  {
   "cell_type": "code",
   "execution_count": 8,
   "metadata": {},
   "outputs": [],
   "source": [
    "import math"
   ]
  },
  {
   "cell_type": "code",
   "execution_count": 9,
   "metadata": {},
   "outputs": [],
   "source": [
    "f = lambda y, x: y * math.sin(x)\n",
    "g = lambda x:0\n",
    "h = lambda x:1"
   ]
  },
  {
   "cell_type": "code",
   "execution_count": 10,
   "metadata": {},
   "outputs": [
    {
     "data": {
      "text/plain": [
       "0.5"
      ]
     },
     "execution_count": 10,
     "metadata": {},
     "output_type": "execute_result"
    }
   ],
   "source": [
    "i, e = scipy.integrate.dblquad(f, 0,math.pi/2, g, h)\n",
    "i"
   ]
  },
  {
   "cell_type": "code",
   "execution_count": 11,
   "metadata": {},
   "outputs": [],
   "source": [
    "# Các câu còn lại các bạn suy nghĩ và giải quyết nhé!"
   ]
  },
  {
   "cell_type": "code",
   "execution_count": 12,
   "metadata": {},
   "outputs": [],
   "source": [
    "# link tham khảo: http://www.stankova.net/statistics_2012/double_integration.pdf"
   ]
  }
 ],
 "metadata": {
  "kernelspec": {
   "display_name": "Python 3",
   "language": "python",
   "name": "python3"
  },
  "language_info": {
   "codemirror_mode": {
    "name": "ipython",
    "version": 3
   },
   "file_extension": ".py",
   "mimetype": "text/x-python",
   "name": "python",
   "nbconvert_exporter": "python",
   "pygments_lexer": "ipython3",
   "version": "3.6.8"
  }
 },
 "nbformat": 4,
 "nbformat_minor": 2
}

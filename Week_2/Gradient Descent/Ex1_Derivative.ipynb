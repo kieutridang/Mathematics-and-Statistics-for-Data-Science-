{
 "cells": [
  {
   "cell_type": "markdown",
   "metadata": {},
   "source": [
    "# Ex1: Derivative (Đạo hàm)"
   ]
  },
  {
   "cell_type": "markdown",
   "metadata": {},
   "source": [
    "### Tính giá trị đạo hàm của các hàm số sau với x = 2:\n",
    "1. $f_1(x) = sin(x) * cos(x) + e^{2x} + 2x^4 -10$\n",
    "2. $\\displaystyle f_2(x) = \\frac{5x^2}{sin(x)}$\n",
    "3. $f_3(x) = (x^2 - 5)(x^3 -2x + 3)$\n",
    "5. $f_4(x) = (\\sqrt{x} + 2x)(4x^2 - 1)$\n",
    "5. $\\displaystyle f_5(x) = \\frac{x^2 - 1}{5x - 3}$\n",
    "6. $\\displaystyle f_6(x) = \\frac{x - \\sqrt{x}}{\\sqrt{x} - 3}$\n",
    "7. $\\displaystyle f_7(x) = (\\frac{1}{x} - 3)(\\frac{x^2 + 3}{2x - 1}) $\n",
    "8. $\\displaystyle f_8(x) = \\sqrt{x}(2x -1)(x^3 - x)$\n",
    "9. $\\displaystyle f_9(x) = (x^3 + 4)^4$\n",
    "10. $\\displaystyle f_{10}(x) = {(\\frac{x - 1}{x + 3})}^3$"
   ]
  },
  {
   "cell_type": "code",
   "execution_count": 1,
   "metadata": {},
   "outputs": [],
   "source": [
    "from scipy.misc import derivative\n",
    "from math import *"
   ]
  },
  {
   "cell_type": "markdown",
   "metadata": {},
   "source": [
    "### Câu 1:"
   ]
  },
  {
   "cell_type": "code",
   "execution_count": 2,
   "metadata": {},
   "outputs": [],
   "source": [
    "def f1(x):\n",
    "    return sin(x) * cos(x) + exp(2*x) + 2*x**4 - 10"
   ]
  },
  {
   "cell_type": "code",
   "execution_count": 3,
   "metadata": {},
   "outputs": [
    {
     "data": {
      "text/plain": [
       "172.5426557186438"
      ]
     },
     "execution_count": 3,
     "metadata": {},
     "output_type": "execute_result"
    }
   ],
   "source": [
    "f1_result = derivative(f1, 2, dx = 1e-10)\n",
    "f1_result"
   ]
  },
  {
   "cell_type": "markdown",
   "metadata": {},
   "source": [
    "### Câu 2:"
   ]
  },
  {
   "cell_type": "code",
   "execution_count": 4,
   "metadata": {},
   "outputs": [],
   "source": [
    "def f2(x):\n",
    "    return (5*(x**2))/sin(x)"
   ]
  },
  {
   "cell_type": "code",
   "execution_count": 5,
   "metadata": {},
   "outputs": [
    {
     "data": {
      "text/plain": [
       "32.06119814080921"
      ]
     },
     "execution_count": 5,
     "metadata": {},
     "output_type": "execute_result"
    }
   ],
   "source": [
    "f2_result = derivative(f2, 2, dx = 1e-10)\n",
    "f2_result"
   ]
  },
  {
   "cell_type": "markdown",
   "metadata": {},
   "source": [
    "### Câu 3:"
   ]
  },
  {
   "cell_type": "code",
   "execution_count": 6,
   "metadata": {},
   "outputs": [],
   "source": [
    "def f3(x):\n",
    "    return (x**2 - 5) * (x**3 - 2*x + 3)"
   ]
  },
  {
   "cell_type": "code",
   "execution_count": 7,
   "metadata": {},
   "outputs": [
    {
     "data": {
      "text/plain": [
       "18.000001489326678"
      ]
     },
     "execution_count": 7,
     "metadata": {},
     "output_type": "execute_result"
    }
   ],
   "source": [
    "f3_result = derivative(f3, 2, dx = 1e-10)\n",
    "f3_result"
   ]
  },
  {
   "cell_type": "markdown",
   "metadata": {},
   "source": [
    "### Câu 4:"
   ]
  },
  {
   "cell_type": "code",
   "execution_count": 8,
   "metadata": {},
   "outputs": [],
   "source": [
    "def f4(x):\n",
    "    return (x**0.5 + 2*x)*((4*x**2) -1)"
   ]
  },
  {
   "cell_type": "code",
   "execution_count": 9,
   "metadata": {},
   "outputs": [
    {
     "data": {
      "text/plain": [
       "121.93076770472544"
      ]
     },
     "execution_count": 9,
     "metadata": {},
     "output_type": "execute_result"
    }
   ],
   "source": [
    "f4_result = derivative(f4, 2, dx = 1e-10)\n",
    "f4_result"
   ]
  },
  {
   "cell_type": "markdown",
   "metadata": {},
   "source": [
    "### Câu 5: "
   ]
  },
  {
   "cell_type": "code",
   "execution_count": 10,
   "metadata": {},
   "outputs": [],
   "source": [
    "def f5(x):\n",
    "    return (x**2 - 1)/(5*x - 3)"
   ]
  },
  {
   "cell_type": "code",
   "execution_count": 11,
   "metadata": {},
   "outputs": [
    {
     "data": {
      "text/plain": [
       "0.26530611041408747"
      ]
     },
     "execution_count": 11,
     "metadata": {},
     "output_type": "execute_result"
    }
   ],
   "source": [
    "f5_result = derivative(f5, 2, dx = 1e-10)\n",
    "f5_result"
   ]
  },
  {
   "cell_type": "code",
   "execution_count": 12,
   "metadata": {},
   "outputs": [],
   "source": [
    "# Các câu còn lại các bạn suy nghĩ và giải quyết nha!"
   ]
  }
 ],
 "metadata": {
  "kernelspec": {
   "display_name": "Python 3",
   "language": "python",
   "name": "python3"
  },
  "language_info": {
   "codemirror_mode": {
    "name": "ipython",
    "version": 3
   },
   "file_extension": ".py",
   "mimetype": "text/x-python",
   "name": "python",
   "nbconvert_exporter": "python",
   "pygments_lexer": "ipython3",
   "version": "3.6.8"
  }
 },
 "nbformat": 4,
 "nbformat_minor": 2
}

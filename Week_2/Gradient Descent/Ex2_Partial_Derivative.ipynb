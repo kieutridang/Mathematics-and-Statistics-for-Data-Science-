{
 "cells": [
  {
   "cell_type": "markdown",
   "metadata": {},
   "source": [
    "# Ex2: Partial Derivatives (Đạo hàm riêng)"
   ]
  },
  {
   "cell_type": "markdown",
   "metadata": {},
   "source": [
    "### Tính đạo hàm riêng theo thứ tự đầu tiên của các các hàm số sau:\n",
    "1. $\\displaystyle w = x^2y - 10y^2z^3 + 43x - 7tan(4y)$ với x = 3\n",
    "2. $\\displaystyle h(s,t) = t^7ln(s^2) + \\frac{9}{t^3} - s^{4/7}$ với t = 2\n",
    "3. $\\displaystyle f(x,y) = cos(\\frac{4}{x})e^{x^2y-5y^3}$ với x = 1\n",
    "4. $\\displaystyle z(u,v) = \\frac{9u}{u^2 + 5v}$ với u = 2\n",
    "5. $\\displaystyle g(x,y) = \\sqrt{x^2 + ln(5x - 2y^2)} $ với x =3"
   ]
  },
  {
   "cell_type": "markdown",
   "metadata": {},
   "source": [
    "### Câu 1"
   ]
  },
  {
   "cell_type": "code",
   "execution_count": 1,
   "metadata": {},
   "outputs": [],
   "source": [
    "import sympy as sp"
   ]
  },
  {
   "cell_type": "code",
   "execution_count": 2,
   "metadata": {},
   "outputs": [],
   "source": [
    "x = sp.Symbol('x')\n",
    "y = sp.Symbol('y')\n",
    "z = sp.Symbol('z')"
   ]
  },
  {
   "cell_type": "code",
   "execution_count": 3,
   "metadata": {},
   "outputs": [],
   "source": [
    "w = (x**2)*y - 10*(y**2)*(z**3) + 43*x - 7*sp.tan(4*y)"
   ]
  },
  {
   "cell_type": "code",
   "execution_count": 4,
   "metadata": {},
   "outputs": [
    {
     "data": {
      "text/latex": [
       "$\\displaystyle 2 x y + 43$"
      ],
      "text/plain": [
       "2*x*y + 43"
      ]
     },
     "execution_count": 4,
     "metadata": {},
     "output_type": "execute_result"
    }
   ],
   "source": [
    "w_p = sp.diff(w, x)\n",
    "w_p"
   ]
  },
  {
   "cell_type": "code",
   "execution_count": 5,
   "metadata": {},
   "outputs": [
    {
     "data": {
      "text/latex": [
       "$\\displaystyle 6 y + 43$"
      ],
      "text/plain": [
       "6*y + 43"
      ]
     },
     "execution_count": 5,
     "metadata": {},
     "output_type": "execute_result"
    }
   ],
   "source": [
    "w_p_v = w_p.subs({x:3})\n",
    "w_p_v"
   ]
  },
  {
   "cell_type": "markdown",
   "metadata": {},
   "source": [
    "### Câu 2: "
   ]
  },
  {
   "cell_type": "code",
   "execution_count": 6,
   "metadata": {},
   "outputs": [],
   "source": [
    "s = sp.Symbol('s')\n",
    "t = sp.Symbol('t')"
   ]
  },
  {
   "cell_type": "code",
   "execution_count": 7,
   "metadata": {},
   "outputs": [],
   "source": [
    "h = (t**7)*sp.ln(s**2) + 9/(t**3) - s**(4/7)"
   ]
  },
  {
   "cell_type": "code",
   "execution_count": 8,
   "metadata": {},
   "outputs": [
    {
     "data": {
      "text/latex": [
       "$\\displaystyle 7 t^{6} \\log{\\left(s^{2} \\right)} - \\frac{27}{t^{4}}$"
      ],
      "text/plain": [
       "7*t**6*log(s**2) - 27/t**4"
      ]
     },
     "execution_count": 8,
     "metadata": {},
     "output_type": "execute_result"
    }
   ],
   "source": [
    "h_p = sp.diff(h,t)\n",
    "h_p"
   ]
  },
  {
   "cell_type": "code",
   "execution_count": 9,
   "metadata": {},
   "outputs": [
    {
     "data": {
      "text/latex": [
       "$\\displaystyle 448 \\log{\\left(s^{2} \\right)} - \\frac{27}{16}$"
      ],
      "text/plain": [
       "448*log(s**2) - 27/16"
      ]
     },
     "execution_count": 9,
     "metadata": {},
     "output_type": "execute_result"
    }
   ],
   "source": [
    "h_p_v = h_p.subs({t:2})\n",
    "h_p_v"
   ]
  },
  {
   "cell_type": "markdown",
   "metadata": {},
   "source": [
    "### Câu 3: "
   ]
  },
  {
   "cell_type": "code",
   "execution_count": 10,
   "metadata": {},
   "outputs": [],
   "source": [
    "x = sp.Symbol('x')\n",
    "y = sp.Symbol('y')"
   ]
  },
  {
   "cell_type": "code",
   "execution_count": 11,
   "metadata": {},
   "outputs": [],
   "source": [
    "f = (sp.cos(4/x)) * sp.exp((x**2)*y - 5*(y**3))"
   ]
  },
  {
   "cell_type": "code",
   "execution_count": 12,
   "metadata": {},
   "outputs": [
    {
     "data": {
      "text/latex": [
       "$\\displaystyle 2 x y e^{x^{2} y - 5 y^{3}} \\cos{\\left(\\frac{4}{x} \\right)} + \\frac{4 e^{x^{2} y - 5 y^{3}} \\sin{\\left(\\frac{4}{x} \\right)}}{x^{2}}$"
      ],
      "text/plain": [
       "2*x*y*exp(x**2*y - 5*y**3)*cos(4/x) + 4*exp(x**2*y - 5*y**3)*sin(4/x)/x**2"
      ]
     },
     "execution_count": 12,
     "metadata": {},
     "output_type": "execute_result"
    }
   ],
   "source": [
    "f_p = sp.diff(f,x)\n",
    "f_p"
   ]
  },
  {
   "cell_type": "code",
   "execution_count": 13,
   "metadata": {},
   "outputs": [
    {
     "data": {
      "text/latex": [
       "$\\displaystyle 2 y e^{- 5 y^{3} + y} \\cos{\\left(4 \\right)} + 4 e^{- 5 y^{3} + y} \\sin{\\left(4 \\right)}$"
      ],
      "text/plain": [
       "2*y*exp(-5*y**3 + y)*cos(4) + 4*exp(-5*y**3 + y)*sin(4)"
      ]
     },
     "execution_count": 13,
     "metadata": {},
     "output_type": "execute_result"
    }
   ],
   "source": [
    "f_p_v = f_p.subs({x:1})\n",
    "f_p_v"
   ]
  },
  {
   "cell_type": "code",
   "execution_count": 14,
   "metadata": {},
   "outputs": [],
   "source": [
    "# Các câu còn lại các bạn suy nghĩ và giải quyết nhé!"
   ]
  }
 ],
 "metadata": {
  "kernelspec": {
   "display_name": "Python 3",
   "language": "python",
   "name": "python3"
  },
  "language_info": {
   "codemirror_mode": {
    "name": "ipython",
    "version": 3
   },
   "file_extension": ".py",
   "mimetype": "text/x-python",
   "name": "python",
   "nbconvert_exporter": "python",
   "pygments_lexer": "ipython3",
   "version": "3.6.8"
  }
 },
 "nbformat": 4,
 "nbformat_minor": 2
}

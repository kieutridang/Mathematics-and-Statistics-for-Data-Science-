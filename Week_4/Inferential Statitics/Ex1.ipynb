{
 "cells": [
  {
   "cell_type": "markdown",
   "metadata": {},
   "source": [
    "# Ex1: "
   ]
  },
  {
   "cell_type": "markdown",
   "metadata": {},
   "source": [
    "## Câu 1: SEM\n",
    "1. Tính SEM của sample distribution với standard deviation = 38 và sample size là 45.\n",
    "2. Tính SEM của dữ liệu sau: 14, 8, 11, 12, 16, 10\n",
    "3. Một số điểm IQ như sau: 96, 104, 126, 134, 140. Tính SEM."
   ]
  },
  {
   "attachments": {},
   "cell_type": "markdown",
   "metadata": {},
   "source": [
    "## Câu 2: Confidence Interval và Levels\n",
    "1.  Lấy mẫu ngẫu nhiên 100 cây giống có chiều cao trung bình là 7.5 inch, độ lệch chuẩn 2.3 inch. Với mức độ tin cậy 95%, thì CI sẽ nằm trong khoảng nào? Vẽ histogram thể hiện sự phân phối.\n",
    "2. Cho dữ liệu people.txt chứa nhiệt độ, giới tính, nhịp tim của 130 người từ Journal of Statistics Education (Shoemaker 1996). Đọc dữ liệu từ tập tin nói trên, lấy toàn bộ cột Tempt. Với mức độ tin cậy 95%, thì CI sẽ nằm trong khoảng nào?"
   ]
  },
  {
   "cell_type": "markdown",
   "metadata": {},
   "source": [
    "## Câu 1: Gợi ý"
   ]
  },
  {
   "cell_type": "code",
   "execution_count": 1,
   "metadata": {},
   "outputs": [],
   "source": [
    "# link tham khảo: https://math.tutorvista.com/algebra/standard-error-of-the-mean.html\n",
    "import numpy as np"
   ]
  },
  {
   "cell_type": "code",
   "execution_count": 2,
   "metadata": {},
   "outputs": [
    {
     "data": {
      "text/plain": [
       "5.664705542999467"
      ]
     },
     "execution_count": 2,
     "metadata": {},
     "output_type": "execute_result"
    }
   ],
   "source": [
    "# câu 1\n",
    "s = 38\n",
    "n = 45\n",
    "SEM = s/(n**0.5)\n",
    "SEM"
   ]
  },
  {
   "cell_type": "code",
   "execution_count": 3,
   "metadata": {},
   "outputs": [
    {
     "name": "stdout",
     "output_type": "stream",
     "text": [
      "2.608745973749755\n"
     ]
    },
    {
     "data": {
      "text/plain": [
       "1.065016084037823"
      ]
     },
     "execution_count": 3,
     "metadata": {},
     "output_type": "execute_result"
    }
   ],
   "source": [
    "# Câu 2\n",
    "data = np.array([14, 8, 11, 12, 16, 10])\n",
    "std = np.std(data)\n",
    "print(std)\n",
    "SEM = std / (data.size**0.5)\n",
    "SEM"
   ]
  },
  {
   "cell_type": "code",
   "execution_count": 4,
   "metadata": {},
   "outputs": [
    {
     "name": "stdout",
     "output_type": "stream",
     "text": [
      "120.0\n"
     ]
    },
    {
     "data": {
      "text/plain": [
       "7.652450587883597"
      ]
     },
     "execution_count": 4,
     "metadata": {},
     "output_type": "execute_result"
    }
   ],
   "source": [
    "# Câu 3\n",
    "IQ = np.array([96, 104, 126, 134, 140])\n",
    "mean = np.mean(IQ)\n",
    "print(mean)\n",
    "std = np.std(IQ)\n",
    "SEM = std/(IQ.size**0.5)\n",
    "SEM"
   ]
  },
  {
   "cell_type": "markdown",
   "metadata": {},
   "source": [
    "## Câu 2: Gợi ý"
   ]
  },
  {
   "cell_type": "code",
   "execution_count": 5,
   "metadata": {},
   "outputs": [],
   "source": [
    "# Câu 1\n",
    "mu = 7.5\n",
    "stdev = 2.3\n",
    "n = 100\n",
    "while True:\n",
    "    heights = np.random.normal(mu, stdev, n)\n",
    "    if abs(mu - np.mean(heights)) < 0.01:\n",
    "        break"
   ]
  },
  {
   "cell_type": "code",
   "execution_count": 6,
   "metadata": {},
   "outputs": [
    {
     "data": {
      "text/plain": [
       "array([11.77597392,  6.22575122,  6.13488918,  7.11631136, 12.71541567,\n",
       "       10.74072149, 10.22934334,  4.36692427,  5.37278009,  6.33736813,\n",
       "        6.18528248, 10.07569375,  7.83149381,  6.07729392,  7.10039696,\n",
       "        8.48810143,  6.46141514,  4.7946664 ,  6.50154415,  4.61307999,\n",
       "        9.35472944,  6.55014924, 12.15360411,  7.55547929, 11.85371481,\n",
       "       10.80055977,  7.29868784,  9.07707133,  4.74932122,  8.38236041,\n",
       "       11.65833064,  0.65925801,  6.17279292,  6.02335627,  8.57069763,\n",
       "        7.97783827,  6.62333013,  6.62171763,  9.95851121,  9.68341845,\n",
       "        8.81864803,  6.85987595,  4.87141439,  6.53442449,  5.9083578 ,\n",
       "        7.01111156,  5.50716773,  8.41529016,  9.8656902 ,  6.60641353,\n",
       "        9.91373533,  8.18470433,  5.7849305 , 10.27375176, 10.70143248,\n",
       "       10.44132179,  5.13168265,  6.4588381 ,  8.01870906,  6.01707957,\n",
       "        4.12530006,  6.85356466,  8.64941221,  2.71777483,  8.82049328,\n",
       "        7.31101105,  5.78212062,  6.62956184,  9.93096288,  8.99970818,\n",
       "        5.54816792,  4.92056624,  6.7522826 ,  6.36395033,  5.65937657,\n",
       "        5.23982078,  5.41412773,  6.16995237,  3.27163039,  5.36162001,\n",
       "        7.54858478,  8.7706865 , 11.20763787,  8.18880247, 10.78394641,\n",
       "        8.81596918,  6.82110533,  3.9583618 , 10.28116331,  8.73486204,\n",
       "        4.82478758,  5.30604467,  6.77902727,  6.88515113, 10.4344191 ,\n",
       "        8.0212066 ,  9.66924782,  8.75568253,  4.7014171 , 12.62998345])"
      ]
     },
     "execution_count": 6,
     "metadata": {},
     "output_type": "execute_result"
    }
   ],
   "source": [
    "heights"
   ]
  },
  {
   "cell_type": "code",
   "execution_count": 7,
   "metadata": {},
   "outputs": [],
   "source": [
    "import matplotlib.pyplot as plt"
   ]
  },
  {
   "cell_type": "code",
   "execution_count": 8,
   "metadata": {},
   "outputs": [
    {
     "data": {
      "image/png": "[encoded data removed]",
      "text/plain": [
       "<Figure size 432x288 with 1 Axes>"
      ]
     },
     "metadata": {},
     "output_type": "display_data"
    }
   ],
   "source": [
    "plt.hist(heights)\n",
    "plt.show()"
   ]
  },
  {
   "cell_type": "code",
   "execution_count": 9,
   "metadata": {},
   "outputs": [],
   "source": [
    "import scipy.stats"
   ]
  },
  {
   "cell_type": "code",
   "execution_count": 10,
   "metadata": {},
   "outputs": [],
   "source": [
    "def mean_confidence_interval(data, confidence=0.95):\n",
    "    a = 1.0 * np.array(data)\n",
    "    n = len(a)\n",
    "    m, se = np.mean(a), scipy.stats.sem(a)\n",
    "    h = se * scipy.stats.t.ppf((1 + confidence) / 2., n-1)\n",
    "    return m, h, m-h, m+h"
   ]
  },
  {
   "cell_type": "code",
   "execution_count": 11,
   "metadata": {},
   "outputs": [
    {
     "data": {
      "text/plain": [
       "(7.498334462801655, 0.464007498794296, 7.0343269640073585, 7.962341961595951)"
      ]
     },
     "execution_count": 11,
     "metadata": {},
     "output_type": "execute_result"
    }
   ],
   "source": [
    "confidence = 0.95\n",
    "mean, CI, low, high = mean_confidence_interval(heights, confidence)\n",
    "mean, CI, low, high"
   ]
  },
  {
   "cell_type": "code",
   "execution_count": 12,
   "metadata": {},
   "outputs": [],
   "source": [
    "import pandas as pd"
   ]
  },
  {
   "cell_type": "code",
   "execution_count": 15,
   "metadata": {},
   "outputs": [
    {
     "data": {
      "text/plain": [
       "pandas.core.series.Series"
      ]
     },
     "execution_count": 15,
     "metadata": {},
     "output_type": "execute_result"
    }
   ],
   "source": [
    "# Câu 2\n",
    "data = pd.read_csv(\"Normtemp.txt\", header=None, sep=\" \")\n",
    "tempt = data[0]\n",
    "type(tempt)"
   ]
  },
  {
   "cell_type": "code",
   "execution_count": 17,
   "metadata": {},
   "outputs": [
    {
     "data": {
      "text/plain": [
       "(98.24923076923078, 0.1272278636227305, 98.12200290560804, 98.37645863285351)"
      ]
     },
     "execution_count": 17,
     "metadata": {},
     "output_type": "execute_result"
    }
   ],
   "source": [
    "confidence = 0.95\n",
    "mean, CI, low, high = mean_confidence_interval(tempt, confidence)\n",
    "mean, CI, low, high"
   ]
  },
  {
   "cell_type": "code",
   "execution_count": null,
   "metadata": {},
   "outputs": [],
   "source": []
  }
 ],
 "metadata": {
  "kernelspec": {
   "display_name": "Python 3",
   "language": "python",
   "name": "python3"
  },
  "language_info": {
   "codemirror_mode": {
    "name": "ipython",
    "version": 3
   },
   "file_extension": ".py",
   "mimetype": "text/x-python",
   "name": "python",
   "nbconvert_exporter": "python",
   "pygments_lexer": "ipython3",
   "version": "3.6.6"
  }
 },
 "nbformat": 4,
 "nbformat_minor": 2
}

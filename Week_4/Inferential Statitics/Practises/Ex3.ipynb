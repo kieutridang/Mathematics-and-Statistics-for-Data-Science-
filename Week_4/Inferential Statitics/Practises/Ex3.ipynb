{
 "cells": [
  {
   "cell_type": "markdown",
   "metadata": {},
   "source": [
    "# Ex3: Cross Validation, Hypothesis Testing"
   ]
  },
  {
   "cell_type": "markdown",
   "metadata": {},
   "source": [
    "## Câu 1: Cross Validation và K-fold\n",
    "#### Cho dữ liệu fruit_data_with_colors.txt\n",
    "1. Đọc dữ liệu vào dataframe\n",
    "2. In thông tin shape, info, head\n",
    "3. Bỏ 2 cột là  fruit_name và fruit_subtype trong dataframe. Tạo X (chứa các cột giá trị), y (là cột fruit_label)\n",
    "3. Áp dụng train/test split cho dữ liệu X, y theo tỷ lệ 70:30. In các index của mỗi bộ\n",
    "4. Áp dụng k-fold với n_splits = 10. In các index của mỗi bộ"
   ]
  },
  {
   "cell_type": "markdown",
   "metadata": {},
   "source": [
    "## Câu 2: P-test và T-test\n",
    "#### Cho 2 bộ dữ liệu Pin đã làm quen ở chapter 5. Hai bộ dữ liệu này độc lập nhau.\n",
    "1. Đọc dữ liệu và gán cho 2 biến là life1_array và life2_array\n",
    "2. Áp dụng t-test, cho biết sẽ accept/reject null hypothesis: 'the mean are equal'. Với alpha = 0.05"
   ]
  },
  {
   "cell_type": "markdown",
   "metadata": {},
   "source": [
    "## Câu 3: P-test và T-test\n",
    "#### Cho 2 bộ dữ liệu phụ thuộc nhau như sau:\n",
    "> np.random.seed(11) <br/>\n",
    "> before=stats.norm.rvs(scale=30,loc=250,size=100) <br/>\n",
    "> after=before+stats.norm.rvs(scale=5,loc=-1.25,size=100) <br/>\n",
    "#### Yêu cầu:\n",
    "1. Tạo dataframe chứa before, after, và change = after - before. In kết quả\n",
    "2. Áp dụng t-test, cho biết sẽ accept/reject null hypothesis: 'the mean are equal'. Với alpha = 0.05"
   ]
  }
 ],
 "metadata": {
  "kernelspec": {
   "display_name": "Python 3",
   "language": "python",
   "name": "python3"
  },
  "language_info": {
   "codemirror_mode": {
    "name": "ipython",
    "version": 3
   },
   "file_extension": ".py",
   "mimetype": "text/x-python",
   "name": "python",
   "nbconvert_exporter": "python",
   "pygments_lexer": "ipython3",
   "version": "3.6.8"
  }
 },
 "nbformat": 4,
 "nbformat_minor": 2
}
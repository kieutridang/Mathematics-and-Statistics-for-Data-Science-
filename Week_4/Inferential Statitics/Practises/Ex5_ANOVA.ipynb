{
 "cells": [
  {
   "cell_type": "markdown",
   "metadata": {},
   "source": [
    "# Ex5: ANOVA"
   ]
  },
  {
   "cell_type": "markdown",
   "metadata": {},
   "source": [
    "## Câu 1: Kiểm tra xe \n",
    "#### Xem xét bài toán sau: Giả sử sở giao thông công chánh muốn kiểm tra sự an toàn của xe con, xe hạng trung và xe cỡ lớn. Thu thập một mẫu ba cho mỗi loại ô tô. Có sự khác biệt đáng kể giữa các loại xe không. Sử dụng α = 5%."
   ]
  },
  {
   "cell_type": "markdown",
   "metadata": {},
   "source": [
    "|---|Compact_cars|Midsize_cars|Full_size_cars |\n",
    "|---|---|---|---|\n",
    "|0|643|469|484|\n",
    "|1|655|427|456|\n",
    "|1|702|525|402|"
   ]
  },
  {
   "cell_type": "markdown",
   "metadata": {},
   "source": [
    "1. Tạo dataframe như hình trên\n",
    "2. Vẽ boxplot, quan sát kết quả\n",
    "3. Áp dụng ANOVA để tìm xem có sự khác biệt đáng kể giữa 3 loại xe. Sử dụng alpha = 5%"
   ]
  },
  {
   "cell_type": "markdown",
   "metadata": {},
   "source": [
    "## Câu 2: \n",
    "#### Xem xét bài toán sau\n",
    "1. Cho tập tin data.xlsx. Đọc dữ liệu\n",
    "2. Từ dữ liệu có 2 yếu tố Factor Detergent - chất tẩy rửa (super, best), Factor Temperature - nhiệt độ (hot, warm, cold). \n",
    "3. Sử dụng ANOVA hai chiều, đồng thời đánh giá chất tẩy rửa và nhiệt độ ảnh hưởng đến lượng chất bẩn bị loại bỏ. Kiểm tra ba giả thuyết 1) ảnh hưởng của chất tẩy đến lượng chất bẩn bị loại bỏ  2) ảnh hưởng của nhiệt độ đến lượng chất bẩn bị loại bỏ và 3) ảnh hưởng của chất tẩy rửa và nhiệt độ đến lượng chất bẩn bị loại bỏ.\n",
    "##### Quan tâm đến việc kiểm tra các giả thiết Null Hypothesis:\n",
    "    - H0D: Lượng bụi bẩn bị loại bỏ không phụ thuộc vào loại chất tẩy\n",
    "    - H0T: Lượng bụi bẩn bị loại bỏ không phụ thuộc vào nhiệt độ"
   ]
  }
 ],
 "metadata": {
  "kernelspec": {
   "display_name": "Python 3",
   "language": "python",
   "name": "python3"
  },
  "language_info": {
   "codemirror_mode": {
    "name": "ipython",
    "version": 3
   },
   "file_extension": ".py",
   "mimetype": "text/x-python",
   "name": "python",
   "nbconvert_exporter": "python",
   "pygments_lexer": "ipython3",
   "version": "3.6.8"
  }
 },
 "nbformat": 4,
 "nbformat_minor": 2
}
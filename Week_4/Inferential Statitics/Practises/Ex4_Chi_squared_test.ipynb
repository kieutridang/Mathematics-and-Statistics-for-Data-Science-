{
 "cells": [
  {
   "cell_type": "markdown",
   "metadata": {},
   "source": [
    "# Ex4: Hypothesis Testing - Chi-squared test"
   ]
  },
  {
   "cell_type": "markdown",
   "metadata": {},
   "source": [
    "# Câu 1: Chi-squared test\n",
    "- Giả sử có 100 người, có trình độ học vấn khác nhau tại một tỉnh nọ. Câu hỏi đặt ra là có sự liên quan giữa giới tính và trình độ học vấn hay không? "
   ]
  },
  {
   "cell_type": "markdown",
   "metadata": {},
   "source": [
    "|Loai|Cao dang|Dai Hoc|Sau dai hoc|\n",
    "|---|---|---|---|\n",
    "|Nam|6|35|15|\n",
    "|Nu|7|31|6|"
   ]
  },
  {
   "cell_type": "markdown",
   "metadata": {},
   "source": [
    "# Câu 2: Chi-squared test\n",
    "- Cho dữ liệu titanic/train.csv chứa thông tin về các hành khách trên con tàu Titanic. Hãy cho biết có mối quan hệ nào giữa PClass và Sex hay không? Chứng minh."
   ]
  },
  {
   "cell_type": "code",
   "execution_count": 1,
   "metadata": {},
   "outputs": [],
   "source": [
    "import pandas as pd\n",
    "import numpy as np\n",
    "import matplotlib.pyplot as plt\n",
    "import seaborn as sns\n",
    "from sklearn.model_selection import train_test_split, KFold"
   ]
  }
 ],
 "metadata": {
  "kernelspec": {
   "display_name": "Python 3",
   "language": "python",
   "name": "python3"
  },
  "language_info": {
   "codemirror_mode": {
    "name": "ipython",
    "version": 3
   },
   "file_extension": ".py",
   "mimetype": "text/x-python",
   "name": "python",
   "nbconvert_exporter": "python",
   "pygments_lexer": "ipython3",
   "version": "3.6.8"
  }
 },
 "nbformat": 4,
 "nbformat_minor": 2
}
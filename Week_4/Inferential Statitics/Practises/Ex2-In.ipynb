{
 "cells": [
  {
   "cell_type": "markdown",
   "metadata": {},
   "source": [
    "# Ex2: Correlation"
   ]
  },
  {
   "cell_type": "markdown",
   "metadata": {},
   "source": [
    "#### Cho dữ liệu baseball trong tập tin Master.csv. \n",
    "- Đọc tập tin vào df => tạo hw từ df chỉ lấy 2 cột height và weight. Bỏ các dòng có dữ liệu null\n",
    "- Vẽ biểu đồ để xem xét tính tương quan.\n",
    "- Vẽ boxplot để tìm outliers. Loại bỏ các outliers.\n",
    "- Tính correlation của height và weight theo 2 cách Pearson và Spearsman"
   ]
  }
 ],
 "metadata": {
  "kernelspec": {
   "display_name": "Python 3",
   "language": "python",
   "name": "python3"
  },
  "language_info": {
   "codemirror_mode": {
    "name": "ipython",
    "version": 3
   },
   "file_extension": ".py",
   "mimetype": "text/x-python",
   "name": "python",
   "nbconvert_exporter": "python",
   "pygments_lexer": "ipython3",
   "version": "3.6.8"
  }
 },
 "nbformat": 4,
 "nbformat_minor": 2
}
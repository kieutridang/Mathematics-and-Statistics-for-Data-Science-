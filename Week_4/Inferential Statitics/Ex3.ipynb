{
 "cells": [
  {
   "cell_type": "markdown",
   "metadata": {},
   "source": [
    "# Ex3: Cross Validation, Hypothesis Testing"
   ]
  },
  {
   "cell_type": "markdown",
   "metadata": {},
   "source": [
    "## Câu 1: Cross Validation và K-fold\n",
    "#### Cho dữ liệu fruit_data_with_colors.txt\n",
    "1. Đọc dữ liệu vào dataframe\n",
    "2. In thông tin shape, info, head\n",
    "3. Bỏ 2 cột là  fruit_name và fruit_subtype trong dataframe. Tạo X (chứa các cột giá trị), y (là cột fruit_label)\n",
    "3. Áp dụng train/test split cho dữ liệu X, y theo tỷ lệ 70:30. In các index của mỗi bộ\n",
    "4. Áp dụng k-fold với n_splits = 10. In các index của mỗi bộ"
   ]
  },
  {
   "cell_type": "markdown",
   "metadata": {},
   "source": [
    "## Câu 2: P-test và T-test\n",
    "#### Cho 2 bộ dữ liệu Pin đã làm quen ở chapter 5. Hai bộ dữ liệu này độc lập nhau.\n",
    "1. Đọc dữ liệu và gán cho 2 biến là life1_array và life2_array\n",
    "2. Áp dụng t-test, cho biết sẽ accept/reject null hypothesis: 'the mean are equal'. Với alpha = 0.05"
   ]
  },
  {
   "cell_type": "markdown",
   "metadata": {},
   "source": [
    "## Câu 3: P-test và T-test\n",
    "#### Cho 2 bộ dữ liệu phụ thuộc nhau như sau:\n",
    "> np.random.seed(11) <br/>\n",
    "> before=stats.norm.rvs(scale=30,loc=250,size=100) <br/>\n",
    "> after=before+stats.norm.rvs(scale=5,loc=-1.25,size=100) <br/>\n",
    "#### Yêu cầu:\n",
    "1. Tạo dataframe chứa before, after, và change = after - before. In kết quả\n",
    "2. Áp dụng t-test, cho biết sẽ accept/reject null hypothesis: 'the mean are equal'. Với alpha = 0.05"
   ]
  },
  {
   "cell_type": "markdown",
   "metadata": {},
   "source": [
    "## Câu 1: Gợi ý"
   ]
  },
  {
   "cell_type": "code",
   "execution_count": 1,
   "metadata": {},
   "outputs": [],
   "source": [
    "import pandas as pd\n",
    "import numpy as np\n",
    "import matplotlib.pyplot as plt\n",
    "import seaborn as sns\n",
    "from sklearn.model_selection import train_test_split, KFold"
   ]
  },
  {
   "cell_type": "code",
   "execution_count": 2,
   "metadata": {},
   "outputs": [
    {
     "data": {
      "text/html": [
       "<div>\n",
       "<style scoped>\n",
       "    .dataframe tbody tr th:only-of-type {\n",
       "        vertical-align: middle;\n",
       "    }\n",
       "\n",
       "    .dataframe tbody tr th {\n",
       "        vertical-align: top;\n",
       "    }\n",
       "\n",
       "    .dataframe thead th {\n",
       "        text-align: right;\n",
       "    }\n",
       "</style>\n",
       "<table border=\"1\" class=\"dataframe\">\n",
       "  <thead>\n",
       "    <tr style=\"text-align: right;\">\n",
       "      <th></th>\n",
       "      <th>fruit_label</th>\n",
       "      <th>fruit_name</th>\n",
       "      <th>fruit_subtype</th>\n",
       "      <th>mass</th>\n",
       "      <th>width</th>\n",
       "      <th>height</th>\n",
       "      <th>color_score</th>\n",
       "    </tr>\n",
       "  </thead>\n",
       "  <tbody>\n",
       "    <tr>\n",
       "      <td>0</td>\n",
       "      <td>1</td>\n",
       "      <td>apple</td>\n",
       "      <td>granny_smith</td>\n",
       "      <td>192</td>\n",
       "      <td>8.4</td>\n",
       "      <td>7.3</td>\n",
       "      <td>0.55</td>\n",
       "    </tr>\n",
       "    <tr>\n",
       "      <td>1</td>\n",
       "      <td>1</td>\n",
       "      <td>apple</td>\n",
       "      <td>granny_smith</td>\n",
       "      <td>180</td>\n",
       "      <td>8.0</td>\n",
       "      <td>6.8</td>\n",
       "      <td>0.59</td>\n",
       "    </tr>\n",
       "    <tr>\n",
       "      <td>2</td>\n",
       "      <td>1</td>\n",
       "      <td>apple</td>\n",
       "      <td>granny_smith</td>\n",
       "      <td>176</td>\n",
       "      <td>7.4</td>\n",
       "      <td>7.2</td>\n",
       "      <td>0.60</td>\n",
       "    </tr>\n",
       "    <tr>\n",
       "      <td>3</td>\n",
       "      <td>2</td>\n",
       "      <td>mandarin</td>\n",
       "      <td>mandarin</td>\n",
       "      <td>86</td>\n",
       "      <td>6.2</td>\n",
       "      <td>4.7</td>\n",
       "      <td>0.80</td>\n",
       "    </tr>\n",
       "    <tr>\n",
       "      <td>4</td>\n",
       "      <td>2</td>\n",
       "      <td>mandarin</td>\n",
       "      <td>mandarin</td>\n",
       "      <td>84</td>\n",
       "      <td>6.0</td>\n",
       "      <td>4.6</td>\n",
       "      <td>0.79</td>\n",
       "    </tr>\n",
       "  </tbody>\n",
       "</table>\n",
       "</div>"
      ],
      "text/plain": [
       "   fruit_label fruit_name fruit_subtype  mass  width  height  color_score\n",
       "0            1      apple  granny_smith   192    8.4     7.3         0.55\n",
       "1            1      apple  granny_smith   180    8.0     6.8         0.59\n",
       "2            1      apple  granny_smith   176    7.4     7.2         0.60\n",
       "3            2   mandarin      mandarin    86    6.2     4.7         0.80\n",
       "4            2   mandarin      mandarin    84    6.0     4.6         0.79"
      ]
     },
     "execution_count": 2,
     "metadata": {},
     "output_type": "execute_result"
    }
   ],
   "source": [
    "data = pd.read_csv(\"fruit_data_with_colors.txt\", sep=\"\\t\")\n",
    "data.head()"
   ]
  },
  {
   "cell_type": "code",
   "execution_count": 3,
   "metadata": {},
   "outputs": [
    {
     "data": {
      "text/plain": [
       "(59, 7)"
      ]
     },
     "execution_count": 3,
     "metadata": {},
     "output_type": "execute_result"
    }
   ],
   "source": [
    "data.shape"
   ]
  },
  {
   "cell_type": "code",
   "execution_count": 4,
   "metadata": {},
   "outputs": [
    {
     "name": "stdout",
     "output_type": "stream",
     "text": [
      "<class 'pandas.core.frame.DataFrame'>\n",
      "RangeIndex: 59 entries, 0 to 58\n",
      "Data columns (total 7 columns):\n",
      "fruit_label      59 non-null int64\n",
      "fruit_name       59 non-null object\n",
      "fruit_subtype    59 non-null object\n",
      "mass             59 non-null int64\n",
      "width            59 non-null float64\n",
      "height           59 non-null float64\n",
      "color_score      59 non-null float64\n",
      "dtypes: float64(3), int64(2), object(2)\n",
      "memory usage: 3.4+ KB\n"
     ]
    }
   ],
   "source": [
    "data.info()"
   ]
  },
  {
   "cell_type": "code",
   "execution_count": 5,
   "metadata": {},
   "outputs": [],
   "source": [
    "X= data[['mass', 'width', 'height', 'color_score']]\n",
    "y = data['fruit_label']"
   ]
  },
  {
   "cell_type": "code",
   "execution_count": 6,
   "metadata": {},
   "outputs": [],
   "source": [
    "## Train/test split"
   ]
  },
  {
   "cell_type": "code",
   "execution_count": 7,
   "metadata": {},
   "outputs": [],
   "source": [
    "X_train, X_test, y_train, y_test = train_test_split(X, y, test_size = 0.3)"
   ]
  },
  {
   "cell_type": "code",
   "execution_count": 8,
   "metadata": {},
   "outputs": [
    {
     "data": {
      "text/plain": [
       "Int64Index([20, 39, 52, 17, 51, 54, 37, 41, 43, 15, 55,  2, 23, 21, 11, 53, 32,\n",
       "            57,  4, 27,  0, 26, 49, 36, 58, 45, 56, 31, 10, 50,  6, 12, 30, 40,\n",
       "            34,  3,  7, 38, 47,  9, 35],\n",
       "           dtype='int64')"
      ]
     },
     "execution_count": 8,
     "metadata": {},
     "output_type": "execute_result"
    }
   ],
   "source": [
    "X_train.index"
   ]
  },
  {
   "cell_type": "code",
   "execution_count": 9,
   "metadata": {},
   "outputs": [
    {
     "data": {
      "text/plain": [
       "Int64Index([5, 48, 44, 8, 46, 24, 18, 42, 28, 29, 25, 13, 14, 22, 1, 16, 19,\n",
       "            33],\n",
       "           dtype='int64')"
      ]
     },
     "execution_count": 9,
     "metadata": {},
     "output_type": "execute_result"
    }
   ],
   "source": [
    "X_test.index"
   ]
  },
  {
   "cell_type": "code",
   "execution_count": 10,
   "metadata": {},
   "outputs": [],
   "source": [
    "## K-fold"
   ]
  },
  {
   "cell_type": "code",
   "execution_count": 11,
   "metadata": {},
   "outputs": [
    {
     "name": "stdout",
     "output_type": "stream",
     "text": [
      "*** Time: 1\n",
      "*** Time: 2\n",
      "*** Time: 3\n",
      "*** Time: 4\n",
      "*** Time: 5\n",
      "*** Time: 6\n",
      "*** Time: 7\n",
      "*** Time: 8\n",
      "*** Time: 9\n",
      "*** Time: 10\n"
     ]
    }
   ],
   "source": [
    "cv = KFold(n_splits=10, random_state=42)\n",
    "time=0\n",
    "for train_index, test_index in cv.split(X):\n",
    "    time += 1\n",
    "    print(\"*** Time:\", time)\n",
    "    # print(\"- Train Index: \", train_index.tolist())\n",
    "    # print(\"- Test Index: \", test_index.tolist(), \"\\n\")\n",
    "    X_train, X_test= X.iloc[train_index.tolist()], X.iloc[test_index.tolist()]\n",
    "    y_train, y_test = y.iloc[train_index.tolist()], y.iloc[test_index.tolist()]     \n",
    "    # các bước tiếp theo"
   ]
  },
  {
   "cell_type": "markdown",
   "metadata": {},
   "source": [
    "## Câu 2: Gợi ý"
   ]
  },
  {
   "cell_type": "code",
   "execution_count": 12,
   "metadata": {},
   "outputs": [
    {
     "data": {
      "text/plain": [
       "array([130, 145, 126, 146, 164, 130, 132, 152, 145, 129, 133, 155, 140,\n",
       "       127, 139, 137, 131, 126, 145, 148, 125, 132, 126, 126, 126, 135,\n",
       "       131, 129, 147, 136, 129, 136, 156, 146, 130, 146, 132, 142, 132,\n",
       "       132])"
      ]
     },
     "execution_count": 12,
     "metadata": {},
     "output_type": "execute_result"
    }
   ],
   "source": [
    "# Tạo life1_array từ nội dung tập tin.\n",
    "f=open(\"life_batteries.txt\", \"r\")\n",
    "content = f.read()\n",
    "f.close()\n",
    "life1 = content.split()\n",
    "life1 = list(map(int, life1))\n",
    "life1_array = np.array(life1)\n",
    "life1_array"
   ]
  },
  {
   "cell_type": "code",
   "execution_count": 13,
   "metadata": {},
   "outputs": [
    {
     "data": {
      "text/plain": [
       "array([134, 130, 140, 151, 143, 134, 136, 144, 150, 135, 160, 141, 143,\n",
       "       140, 138, 141, 148, 146, 140, 146, 151, 138, 151, 139, 151, 128,\n",
       "       146, 147, 152, 142, 144, 134, 142, 146, 142, 136, 122, 134, 145,\n",
       "       147])"
      ]
     },
     "execution_count": 13,
     "metadata": {},
     "output_type": "execute_result"
    }
   ],
   "source": [
    "# Tạo life2_array từ nội dung tập tin.\n",
    "f=open(\"life_batteries_2.txt\", \"r\")\n",
    "content = f.read()\n",
    "f.close()\n",
    "life2 = content.split()\n",
    "life2 = list(map(int, life2))\n",
    "life2_array = np.array(life2)\n",
    "life2_array"
   ]
  },
  {
   "cell_type": "code",
   "execution_count": 14,
   "metadata": {},
   "outputs": [],
   "source": [
    "from scipy.stats import ttest_ind, ttest_rel"
   ]
  },
  {
   "cell_type": "code",
   "execution_count": 15,
   "metadata": {},
   "outputs": [
    {
     "name": "stdout",
     "output_type": "stream",
     "text": [
      "t=-2.61, p=0.01\n"
     ]
    }
   ],
   "source": [
    "t, p = ttest_ind(life1_array, life2_array)\n",
    "print(\"t=%.2f, p=%.2f\"%(t,p))"
   ]
  },
  {
   "cell_type": "code",
   "execution_count": 16,
   "metadata": {},
   "outputs": [
    {
     "name": "stdout",
     "output_type": "stream",
     "text": [
      "Reject the null hypothesis that the means are equal.\n"
     ]
    }
   ],
   "source": [
    "# interpret via p-value\n",
    "alpha = 0.05\n",
    "if p > alpha:\n",
    "    print('Accept null hypothesis that the means are equal.')\n",
    "else:\n",
    "    print('Reject the null hypothesis that the means are equal.')"
   ]
  },
  {
   "cell_type": "markdown",
   "metadata": {},
   "source": [
    "## Câu 3: Gợi ý"
   ]
  },
  {
   "cell_type": "code",
   "execution_count": 17,
   "metadata": {},
   "outputs": [],
   "source": [
    "from scipy import stats"
   ]
  },
  {
   "cell_type": "code",
   "execution_count": 18,
   "metadata": {},
   "outputs": [
    {
     "data": {
      "text/html": [
       "<div>\n",
       "<style scoped>\n",
       "    .dataframe tbody tr th:only-of-type {\n",
       "        vertical-align: middle;\n",
       "    }\n",
       "\n",
       "    .dataframe tbody tr th {\n",
       "        vertical-align: top;\n",
       "    }\n",
       "\n",
       "    .dataframe thead th {\n",
       "        text-align: right;\n",
       "    }\n",
       "</style>\n",
       "<table border=\"1\" class=\"dataframe\">\n",
       "  <thead>\n",
       "    <tr style=\"text-align: right;\">\n",
       "      <th></th>\n",
       "      <th>before</th>\n",
       "      <th>after</th>\n",
       "      <th>change</th>\n",
       "    </tr>\n",
       "  </thead>\n",
       "  <tbody>\n",
       "    <tr>\n",
       "      <td>0</td>\n",
       "      <td>302.483642</td>\n",
       "      <td>305.605006</td>\n",
       "      <td>3.121364</td>\n",
       "    </tr>\n",
       "    <tr>\n",
       "      <td>1</td>\n",
       "      <td>241.417810</td>\n",
       "      <td>240.526071</td>\n",
       "      <td>-0.891739</td>\n",
       "    </tr>\n",
       "    <tr>\n",
       "      <td>2</td>\n",
       "      <td>235.463046</td>\n",
       "      <td>226.017788</td>\n",
       "      <td>-9.445258</td>\n",
       "    </tr>\n",
       "    <tr>\n",
       "      <td>3</td>\n",
       "      <td>170.400443</td>\n",
       "      <td>165.913930</td>\n",
       "      <td>-4.486513</td>\n",
       "    </tr>\n",
       "    <tr>\n",
       "      <td>4</td>\n",
       "      <td>249.751461</td>\n",
       "      <td>252.590309</td>\n",
       "      <td>2.838848</td>\n",
       "    </tr>\n",
       "  </tbody>\n",
       "</table>\n",
       "</div>"
      ],
      "text/plain": [
       "       before       after    change\n",
       "0  302.483642  305.605006  3.121364\n",
       "1  241.417810  240.526071 -0.891739\n",
       "2  235.463046  226.017788 -9.445258\n",
       "3  170.400443  165.913930 -4.486513\n",
       "4  249.751461  252.590309  2.838848"
      ]
     },
     "execution_count": 18,
     "metadata": {},
     "output_type": "execute_result"
    }
   ],
   "source": [
    "np.random.seed(11)\n",
    "before=stats.norm.rvs(scale=30,loc=250,size=100)\n",
    "after=before+stats.norm.rvs(scale=5,loc=-1.25,size=100)\n",
    "df=pd.DataFrame({\"before\":before,\n",
    "                         \"after\":after,\n",
    "                         \"change\":after-before})\n",
    "df.head()"
   ]
  },
  {
   "cell_type": "code",
   "execution_count": 19,
   "metadata": {},
   "outputs": [
    {
     "data": {
      "text/html": [
       "<div>\n",
       "<style scoped>\n",
       "    .dataframe tbody tr th:only-of-type {\n",
       "        vertical-align: middle;\n",
       "    }\n",
       "\n",
       "    .dataframe tbody tr th {\n",
       "        vertical-align: top;\n",
       "    }\n",
       "\n",
       "    .dataframe thead th {\n",
       "        text-align: right;\n",
       "    }\n",
       "</style>\n",
       "<table border=\"1\" class=\"dataframe\">\n",
       "  <thead>\n",
       "    <tr style=\"text-align: right;\">\n",
       "      <th></th>\n",
       "      <th>before</th>\n",
       "      <th>after</th>\n",
       "      <th>change</th>\n",
       "    </tr>\n",
       "  </thead>\n",
       "  <tbody>\n",
       "    <tr>\n",
       "      <td>count</td>\n",
       "      <td>100.000000</td>\n",
       "      <td>100.000000</td>\n",
       "      <td>100.000000</td>\n",
       "    </tr>\n",
       "    <tr>\n",
       "      <td>mean</td>\n",
       "      <td>250.345546</td>\n",
       "      <td>249.115171</td>\n",
       "      <td>-1.230375</td>\n",
       "    </tr>\n",
       "    <tr>\n",
       "      <td>std</td>\n",
       "      <td>28.132539</td>\n",
       "      <td>28.422183</td>\n",
       "      <td>4.783696</td>\n",
       "    </tr>\n",
       "    <tr>\n",
       "      <td>min</td>\n",
       "      <td>170.400443</td>\n",
       "      <td>165.913930</td>\n",
       "      <td>-11.495286</td>\n",
       "    </tr>\n",
       "    <tr>\n",
       "      <td>25%</td>\n",
       "      <td>230.421042</td>\n",
       "      <td>229.148236</td>\n",
       "      <td>-4.046211</td>\n",
       "    </tr>\n",
       "    <tr>\n",
       "      <td>50%</td>\n",
       "      <td>250.830805</td>\n",
       "      <td>251.134089</td>\n",
       "      <td>-1.413463</td>\n",
       "    </tr>\n",
       "    <tr>\n",
       "      <td>75%</td>\n",
       "      <td>270.637145</td>\n",
       "      <td>268.927258</td>\n",
       "      <td>1.738673</td>\n",
       "    </tr>\n",
       "    <tr>\n",
       "      <td>max</td>\n",
       "      <td>314.700233</td>\n",
       "      <td>316.720357</td>\n",
       "      <td>9.759282</td>\n",
       "    </tr>\n",
       "  </tbody>\n",
       "</table>\n",
       "</div>"
      ],
      "text/plain": [
       "           before       after      change\n",
       "count  100.000000  100.000000  100.000000\n",
       "mean   250.345546  249.115171   -1.230375\n",
       "std     28.132539   28.422183    4.783696\n",
       "min    170.400443  165.913930  -11.495286\n",
       "25%    230.421042  229.148236   -4.046211\n",
       "50%    250.830805  251.134089   -1.413463\n",
       "75%    270.637145  268.927258    1.738673\n",
       "max    314.700233  316.720357    9.759282"
      ]
     },
     "execution_count": 19,
     "metadata": {},
     "output_type": "execute_result"
    }
   ],
   "source": [
    "df.describe()"
   ]
  },
  {
   "cell_type": "code",
   "execution_count": 20,
   "metadata": {},
   "outputs": [
    {
     "name": "stdout",
     "output_type": "stream",
     "text": [
      "t=0.31, p=0.76\n"
     ]
    }
   ],
   "source": [
    "t, p = ttest_ind(df.before, df.after)\n",
    "print(\"t=%.2f, p=%.2f\"%(t,p))"
   ]
  },
  {
   "cell_type": "code",
   "execution_count": 21,
   "metadata": {},
   "outputs": [
    {
     "name": "stdout",
     "output_type": "stream",
     "text": [
      "Accept null hypothesis that the means are equal.\n"
     ]
    }
   ],
   "source": [
    "# interpret via p-value\n",
    "alpha = 0.05\n",
    "if p > alpha:\n",
    "    print('Accept null hypothesis that the means are equal.')\n",
    "else:\n",
    "    print('Reject the null hypothesis that the means are equal.')"
   ]
  }
 ],
 "metadata": {
  "kernelspec": {
   "display_name": "Python 3",
   "language": "python",
   "name": "python3"
  },
  "language_info": {
   "codemirror_mode": {
    "name": "ipython",
    "version": 3
   },
   "file_extension": ".py",
   "mimetype": "text/x-python",
   "name": "python",
   "nbconvert_exporter": "python",
   "pygments_lexer": "ipython3",
   "version": "3.6.8"
  }
 },
 "nbformat": 4,
 "nbformat_minor": 2
}

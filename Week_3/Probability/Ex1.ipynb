{
 "cells": [
  {
   "cell_type": "markdown",
   "metadata": {},
   "source": [
    "# Ex1: Probability (xác suất)"
   ]
  },
  {
   "cell_type": "markdown",
   "metadata": {},
   "source": [
    "## Bài 1\n",
    "1. Có 5 viên bi trong túi: 4 viên màu xanh và 1 viên màu đỏ. Xác suất mà một viên bi màu xanh được chọn là bao nhiêu?\n",
    "2. Tung xí ngầu 1 lần. Xác suất để có được một mặt mà nó là một factor của 6 (6 chia hết cho nó) là bao nhiêu?\n",
    "3. Một con quay được tạo thành từ một mảnh thẻ có hình ngũ giác thông thường, với một que được xuyên qua trung tâm của nó. Năm hình tam giác được đánh số từ 1 đến 5. Con quay được quay cho đến khi nó dừng lại ở một trong năm cạnh của hình ngũ giác. Xác suất mà số dừng lại là số lẻ là bao nhiêu?\n",
    "4. Mỗi chữ cái của từ MISSISSIPPI được viết trên các mảnh giấy riêng biệt sau đó được gấp lại, đặt trong một chiếc hộp và lắc kỹ. Một mảnh giấy được chọn (không nhìn vào) từ chiếc hộp. Xác suất I được chọn là bao nhiêu?\n",
    "5. Một lá bài được chọn ngẫu nhiên từ một bộ bài gồm 52 lá. Có 4 là Queen và 4 là Kinga trong bộ bài. Xác suất mà lá bài được chọn là Queen hoặc King là bao nhiêu?\n",
    "6. Một đồng tiền xu được tung ba lần. Xác suất để có được một Head và hai Tail là bao nhiêu cho 3 lần tung là bao nhiêu? \n",
    "7. Một hội đồng gồm ba người được chọn từ năm ứng viên - Adams, Burke, Cobb, Dilby và Evans. Xác suất Burke có mặt trong hội đồng là bao nhiêu?\n",
    "8. Một cái hộp có 8 mặt bằng nhau được đánh số từ 1 đến 8. Nếu ném một lần, xác suất để mặt chạm đất là số nguyên tố là bao nhiêu?\n",
    "9. Có một cây đinh hình nấm. Khi A làm rơi nó xuống đất 100 lần thì có 38 lần thân đinh hướng lên. Vậy xác suất để đinh hướng lên là bao nhiêu?\n",
    "10. Có 10 thẻ trong một túi: 3 màu đỏ, 2 màu xanh và 5 màu xanh lá cây. Túi được lắc trước khi Maxine chọn ngẫu nhiên một thẻ từ túi. Xác suất mà cô ấy không chọn thẻ màu đỏ là bao nhiêu?\n",
    "11. 1 hình hộp 20 mặt đánh số từ 1 - 20. Co hội là như nhau với 20 mặt. Tung hộp 1 lần. Xác suất để có được một mặt mà nó là một factor của 20 là bao nhiêu?"
   ]
  },
  {
   "cell_type": "markdown",
   "metadata": {},
   "source": [
    "## Bài 2:\n",
    "1. Tung đồng xu. Xác suất có 3 Head liên tiếp?\n",
    "2. Tung đồng xu. Cho rằng chúng ta vừa có 6 Head liên tiếp, vậy xác suất để lần tiếp theo cũng là Head là bao nhiêu? \n",
    "3. Có 2 nhóm học sinh, mỗi nhóm 5 em. Mỗi nhóm chọn ngẫu nhiên một em vào vòng 2. Với 2 em được chọn vào vòng 2, chọn ngãu nhiên 1 em vào vòng cuối cùng. Vậy xác suất để 1 em vào vòng cuối cùng là bao nhiêu?"
   ]
  },
  {
   "cell_type": "markdown",
   "metadata": {},
   "source": [
    "## Bài 3:\n",
    "1. Một chiếc bình chứa 6 viên bi đỏ và 4 viên bi đen. Viên bi thứ nhất được lấy (không hoàn lại). Sau đó, viên bi thứ hai được lấy.Xác suất mà cả hai viên bi đều màu đen là bao nhiêu?\n",
    "2. Một lá bài được rút ngẫu nhiên từ một bộ bài thông thường. Bạn giành được 10 USD nếu thẻ là quân bích hoặc quân át. Xác suất mà bạn sẽ giành chiến thắng trong trò chơi là gì?\n",
    "\n",
    "#### Xem thêm tại: https://thunhan.wordpress.com/bai-giang/xstk/xac-suat-co-dieu-kien/\n",
    "#### http://baigiangxacsuat.blogspot.com/p/xac-suat-co-dieu-kien.html"
   ]
  },
  {
   "cell_type": "markdown",
   "metadata": {},
   "source": [
    "## Bài 1: Gợi ý"
   ]
  },
  {
   "cell_type": "code",
   "execution_count": 16,
   "metadata": {},
   "outputs": [
    {
     "data": {
      "text/plain": [
       "0.8"
      ]
     },
     "execution_count": 16,
     "metadata": {},
     "output_type": "execute_result"
    }
   ],
   "source": [
    "# Number of ways it can happen = 4 \n",
    "# Total number of outcomes = 5\n",
    "P_blue = 4/5\n",
    "P_blue"
   ]
  },
  {
   "cell_type": "code",
   "execution_count": 4,
   "metadata": {},
   "outputs": [
    {
     "data": {
      "text/plain": [
       "0.6666666666666666"
      ]
     },
     "execution_count": 4,
     "metadata": {},
     "output_type": "execute_result"
    }
   ],
   "source": [
    "# Number of ways it can happen = 4 (1, 2, 3, 6)\n",
    "# Total number of outcomes = 6\n",
    "P_factor_6 = 4/6\n",
    "P_factor_6"
   ]
  },
  {
   "cell_type": "code",
   "execution_count": 5,
   "metadata": {},
   "outputs": [
    {
     "data": {
      "text/plain": [
       "0.6"
      ]
     },
     "execution_count": 5,
     "metadata": {},
     "output_type": "execute_result"
    }
   ],
   "source": [
    "# Number of ways it can happen = 3 (1, 3, 5)\n",
    "# Total number of outcomes = 5\n",
    "P_odd = 3/5\n",
    "P_odd"
   ]
  },
  {
   "cell_type": "code",
   "execution_count": 6,
   "metadata": {},
   "outputs": [
    {
     "data": {
      "text/plain": [
       "0.36363636363636365"
      ]
     },
     "execution_count": 6,
     "metadata": {},
     "output_type": "execute_result"
    }
   ],
   "source": [
    "# Number of ways it can happen = 4 \n",
    "# Total number of outcomes = 11\n",
    "P_I = 4/11\n",
    "P_I"
   ]
  },
  {
   "cell_type": "code",
   "execution_count": 7,
   "metadata": {},
   "outputs": [
    {
     "data": {
      "text/plain": [
       "0.15384615384615385"
      ]
     },
     "execution_count": 7,
     "metadata": {},
     "output_type": "execute_result"
    }
   ],
   "source": [
    "P_kinngs = 4/52\n",
    "P_queens = 4/52\n",
    "P_king_or_queen = P_kinngs + P_queens # chọn king thì không chọn queen (loại trừ lẫn nhau)\n",
    "P_king_or_queen"
   ]
  },
  {
   "cell_type": "code",
   "execution_count": 8,
   "metadata": {},
   "outputs": [
    {
     "data": {
      "text/plain": [
       "0.375"
      ]
     },
     "execution_count": 8,
     "metadata": {},
     "output_type": "execute_result"
    }
   ],
   "source": [
    "# There are 8 possible ways the coin can land: (H, H, H), (H, H, T), (H, T, H), (H, T, T), (T, H, H), (T, H, T), (T, T, H) and (T, T, T)\n",
    "# 3 have one Head and two Tails: (H, T, T), (T, H, T) and (T, T, H)\n",
    "P_Head_2_Tails = 3/8\n",
    "P_Head_2_Tails"
   ]
  },
  {
   "cell_type": "code",
   "execution_count": 9,
   "metadata": {},
   "outputs": [
    {
     "data": {
      "text/plain": [
       "0.6"
      ]
     },
     "execution_count": 9,
     "metadata": {},
     "output_type": "execute_result"
    }
   ],
   "source": [
    "# Number of ways it can happen = 3\n",
    "# Total number of outcomes = 5\n",
    "P_Burke = 3/5\n",
    "P_Burke"
   ]
  },
  {
   "cell_type": "code",
   "execution_count": 10,
   "metadata": {},
   "outputs": [
    {
     "data": {
      "text/plain": [
       "0.5"
      ]
     },
     "execution_count": 10,
     "metadata": {},
     "output_type": "execute_result"
    }
   ],
   "source": [
    "# Prime: 2, 3, 5, 7\n",
    "# Number of ways it can happen = 4\n",
    "# Total number of outcomes = 8\n",
    "P_prime = 4/8\n",
    "P_prime"
   ]
  },
  {
   "cell_type": "code",
   "execution_count": 11,
   "metadata": {},
   "outputs": [
    {
     "data": {
      "text/plain": [
       "0.38"
      ]
     },
     "execution_count": 11,
     "metadata": {},
     "output_type": "execute_result"
    }
   ],
   "source": [
    "# Number of ways it can happen = 38\n",
    "# Total number of outcomes = 100\n",
    "P_point_up = 38/100\n",
    "P_point_up"
   ]
  },
  {
   "cell_type": "code",
   "execution_count": 12,
   "metadata": {},
   "outputs": [
    {
     "data": {
      "text/plain": [
       "0.7"
      ]
     },
     "execution_count": 12,
     "metadata": {},
     "output_type": "execute_result"
    }
   ],
   "source": [
    "# Choose red = 3 \n",
    "# Not Choose red = 7\n",
    "# Total number of outcomes = 10\n",
    "P_not_red = 1 - 3/10\n",
    "P_not_red"
   ]
  },
  {
   "cell_type": "code",
   "execution_count": 13,
   "metadata": {},
   "outputs": [
    {
     "data": {
      "text/plain": [
       "0.3"
      ]
     },
     "execution_count": 13,
     "metadata": {},
     "output_type": "execute_result"
    }
   ],
   "source": [
    "# Number of ways it can happen = 4 (1, 2, 4, 5, 10, 20)\n",
    "# Total number of outcomes = 20\n",
    "P_factor_20 = 6/20\n",
    "P_factor_20"
   ]
  },
  {
   "cell_type": "markdown",
   "metadata": {},
   "source": [
    "## Bài 2:\n",
    "1. Tung đồng xu. Xác suất có 3 Head liên tiếp?\n",
    "2. Tung đồng xu. Cho rằng chúng ta vừa có 6 Head liên tiếp, vậy xác suất để lần tiếp theo cũng là Head là bao nhiêu? \n",
    "3. Có 2 nhóm học sinh, mỗi nhóm 5 em. Mỗi nhóm chọn ngẫu nhiên một em vào vòng 2. Với 2 em được chọn vào vòng 2, chọn ngãu nhiên 1 em vào vòng cuối cùng. Vậy xác suất để 1 em vào vòng cuối cùng là bao nhiêu?"
   ]
  },
  {
   "cell_type": "code",
   "execution_count": 14,
   "metadata": {},
   "outputs": [
    {
     "data": {
      "text/plain": [
       "0.125"
      ]
     },
     "execution_count": 14,
     "metadata": {},
     "output_type": "execute_result"
    }
   ],
   "source": [
    "# independent\n",
    "time_1 = 1/2\n",
    "time_2 = 1/2\n",
    "time_3 = 1/2\n",
    "P_A_B_C = time_1 * time_2 * time_3\n",
    "P_A_B_C"
   ]
  },
  {
   "cell_type": "code",
   "execution_count": 15,
   "metadata": {},
   "outputs": [
    {
     "data": {
      "text/plain": [
       "0.5"
      ]
     },
     "execution_count": 15,
     "metadata": {},
     "output_type": "execute_result"
    }
   ],
   "source": [
    "# independent\n",
    "P_7_is_Head = 1/2\n",
    "P_7_is_Head"
   ]
  },
  {
   "cell_type": "code",
   "execution_count": 17,
   "metadata": {},
   "outputs": [
    {
     "data": {
      "text/plain": [
       "0.1"
      ]
     },
     "execution_count": 17,
     "metadata": {},
     "output_type": "execute_result"
    }
   ],
   "source": [
    "# independent\n",
    "# P_2: 1/5\n",
    "# P_3: 1/2\n",
    "P_final = 1/5 * 1/2 \n",
    "P_final"
   ]
  },
  {
   "cell_type": "markdown",
   "metadata": {},
   "source": [
    "## Bài 3:\n",
    "1. Một chiếc bình chứa 6 viên bi đỏ và 4 viên bi đen. Viên bi thứ nhất được lấy. Sau đó (giữ nguyên viên bi thứ nhất), viên bi thứ hai được lấy.Xác suất mà cả hai viên bi đều màu đen là bao nhiêu?\n",
    "2. Một lá bài được rút ngẫu nhiên từ một bộ bài thông thường. Bạn giành được 10 USD nếu thẻ là quân bích hoặc quân át. Xác suất mà bạn sẽ giành chiến thắng trong trò chơi là gì?"
   ]
  },
  {
   "cell_type": "code",
   "execution_count": 18,
   "metadata": {},
   "outputs": [
    {
     "data": {
      "text/plain": [
       "0.13333333333333333"
      ]
     },
     "execution_count": 18,
     "metadata": {},
     "output_type": "execute_result"
    }
   ],
   "source": [
    "P_1 = 4/10\n",
    "P_2_1 = 3/9\n",
    "P_1_and_2 = P_1 * P_2_1\n",
    "P_1_and_2"
   ]
  },
  {
   "cell_type": "code",
   "execution_count": 22,
   "metadata": {},
   "outputs": [
    {
     "data": {
      "text/plain": [
       "0.3076923076923077"
      ]
     },
     "execution_count": 22,
     "metadata": {},
     "output_type": "execute_result"
    }
   ],
   "source": [
    "P_ace = 4/52\n",
    "P_spade = 13/52\n",
    "P_spade_of_ace = 1/52\n",
    "\n",
    "P_spade_or_ace = P_ace + P_spade - P_spade_of_ace \n",
    "P_spade_or_ace"
   ]
  },
  {
   "cell_type": "code",
   "execution_count": null,
   "metadata": {},
   "outputs": [],
   "source": []
  }
 ],
 "metadata": {
  "kernelspec": {
   "display_name": "Python 3",
   "language": "python",
   "name": "python3"
  },
  "language_info": {
   "codemirror_mode": {
    "name": "ipython",
    "version": 3
   },
   "file_extension": ".py",
   "mimetype": "text/x-python",
   "name": "python",
   "nbconvert_exporter": "python",
   "pygments_lexer": "ipython3",
   "version": "3.6.8"
  }
 },
 "nbformat": 4,
 "nbformat_minor": 2
}

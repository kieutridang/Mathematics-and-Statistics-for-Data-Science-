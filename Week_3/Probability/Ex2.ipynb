{
 "cells": [
  {
   "cell_type": "markdown",
   "metadata": {},
   "source": [
    "# Ex2: Distribution 1"
   ]
  },
  {
   "cell_type": "markdown",
   "metadata": {},
   "source": [
    "## Bài 1: \n",
    "#### Giả sử trong một bài kiểm tra có 30 người tham gia. Một câu hỏi được đưa ra cho tất cả 30 người tham gia và thời gian được phép trả lời là 25 giây. Tìm xác suất người tham gia trả lời trong vòng 6 giây? \n",
    "1. Chọn loại phân phối. Hãy tạo ra thời gian ngẫu nhiên để trả lời câu hỏi cho 30 người này. \n",
    "2. Vẽ histogram quan sát. Nhận xét.\n",
    "3. Tìm xác xuất 1 người tham gia trả lời trong vòng 6 giây. Có 30 người, vậy với xác suất vừa tìm được thì bao nhiêu người trong số họ trả lời được trong 6 giây."
   ]
  },
  {
   "cell_type": "markdown",
   "metadata": {},
   "source": [
    "## Bài 2: \n",
    "#### 60% người mua xe thể thao là nam giới. Nếu 10 chủ xe thể thao được chọn ngẫu nhiên, hãy tìm xác suất có 7 người là nam giới.\n",
    "- Chọn loại phân phối. Hãy tạo ra 10 mẫu ngẫu nhiên theo mô tả trên với số lần lặp lại các thử nghiệm là 1000\n",
    "- Vẽ histogram quan sát. Nhận xét.\n",
    "- Hãy tìm xác suất có 7 người là nam giới."
   ]
  },
  {
   "cell_type": "markdown",
   "metadata": {},
   "source": [
    "## Bài 3:\n",
    "#### Giả sử bạn đang sử dụng một trung tâm dữ liệu trong đó xác suất thất bại là 0,001 mỗi ngày. Hãy cho biết khả năng thất bại trong năm tới là bao nhiêu?\n",
    "1. Chọn loại phân phối. Hãy tạo ra các mẫu ngẫu nhiên với số lần lặp thử nghiệm là 365 theo xác suất trên.\n",
    "2. Vẽ histogram quan sát\n",
    "3. Hãy cho biết khả năng thất bại trong năm tới là bao nhiêu?"
   ]
  },
  {
   "cell_type": "markdown",
   "metadata": {},
   "source": [
    "## Bài 1: Gợi ý"
   ]
  },
  {
   "cell_type": "code",
   "execution_count": 1,
   "metadata": {},
   "outputs": [],
   "source": [
    "import numpy as np\n",
    "import matplotlib.pyplot as plt\n",
    "import seaborn as sns"
   ]
  },
  {
   "cell_type": "code",
   "execution_count": 2,
   "metadata": {},
   "outputs": [],
   "source": [
    "# 30 người trả lời trong vòng 25 giây\n",
    "n = 30\n",
    "a = 0\n",
    "b = 25"
   ]
  },
  {
   "cell_type": "code",
   "execution_count": 3,
   "metadata": {},
   "outputs": [
    {
     "data": {
      "text/plain": [
       "array([16, 17, 18, 12,  7, 24, 24, 20,  1,  1,  1,  4,  0, 15, 19,  7, 25,\n",
       "        1, 19,  8, 22,  8, 14,  6,  3,  2, 20, 12,  2, 21])"
      ]
     },
     "execution_count": 3,
     "metadata": {},
     "output_type": "execute_result"
    }
   ],
   "source": [
    "data = np.random.uniform(a, b+1, n)\n",
    "data.astype(int)"
   ]
  },
  {
   "cell_type": "code",
   "execution_count": 4,
   "metadata": {},
   "outputs": [
    {
     "data": {
      "image/png": "[encoded data removed]",
      "text/plain": [
       "<Figure size 576x288 with 2 Axes>"
      ]
     },
     "metadata": {
      "needs_background": "light"
     },
     "output_type": "display_data"
    }
   ],
   "source": [
    "plt.figure(figsize=(8,4))\n",
    "plt.subplot(1, 2, 1)\n",
    "plt.hist(data)\n",
    "plt.subplot(1, 2, 2)\n",
    "sns.distplot(data,\n",
    "                  bins=10,\n",
    "                  kde=True,\n",
    "                  color='blue',\n",
    "                  hist_kws={\"linewidth\": 15,'alpha':1})\n",
    "plt.show()"
   ]
  },
  {
   "cell_type": "code",
   "execution_count": 5,
   "metadata": {},
   "outputs": [
    {
     "data": {
      "text/plain": [
       "0.24"
      ]
     },
     "execution_count": 5,
     "metadata": {},
     "output_type": "execute_result"
    }
   ],
   "source": [
    "## Xác suất để 1 người tham gia sẽ trả lời trong vòng 6s => P(P<6)\n",
    "p = (6-0)*(1/(b-a))\n",
    "p"
   ]
  },
  {
   "cell_type": "code",
   "execution_count": 6,
   "metadata": {},
   "outputs": [
    {
     "data": {
      "text/plain": [
       "7"
      ]
     },
     "execution_count": 6,
     "metadata": {},
     "output_type": "execute_result"
    }
   ],
   "source": [
    "# Có 30 người tham gia bài kiểm tra. Do đó, số người tham gia có thể trả lời câu hỏi trong 6 giây\n",
    "persons = round(p*30)\n",
    "persons"
   ]
  },
  {
   "cell_type": "markdown",
   "metadata": {},
   "source": [
    "## Bài 2: Gợi ý"
   ]
  },
  {
   "cell_type": "code",
   "execution_count": 7,
   "metadata": {},
   "outputs": [],
   "source": [
    "from scipy.stats import binom"
   ]
  },
  {
   "cell_type": "code",
   "execution_count": 8,
   "metadata": {},
   "outputs": [],
   "source": [
    "import matplotlib.pyplot as plt\n",
    "import seaborn as sns"
   ]
  },
  {
   "cell_type": "code",
   "execution_count": 9,
   "metadata": {},
   "outputs": [],
   "source": [
    "# n: số mẫu thử nghiệm, p: xác suất thành công\n",
    "# size: số lần lặp lại các thử nghiệm.\n",
    "n = 10\n",
    "p = 0.6\n",
    "size = 1000\n",
    "data_binom = binom.rvs(n=n,p=p,size=size)"
   ]
  },
  {
   "cell_type": "code",
   "execution_count": 10,
   "metadata": {},
   "outputs": [
    {
     "data": {
      "text/plain": [
       "[Text(0, 0.5, 'Frequency'), Text(0.5, 0, 'Binomial Distribution')]"
      ]
     },
     "execution_count": 10,
     "metadata": {},
     "output_type": "execute_result"
    },
    {
     "data": {
      "image/png": "[encoded data removed]",
      "text/plain": [
       "<Figure size 432x288 with 1 Axes>"
      ]
     },
     "metadata": {
      "needs_background": "light"
     },
     "output_type": "display_data"
    }
   ],
   "source": [
    "ax = sns.distplot(data_binom,\n",
    "                  kde=False,\n",
    "                  color='blue',\n",
    "                  hist_kws={\"linewidth\": 15,'alpha':1})\n",
    "ax.set(xlabel='Binomial Distribution', ylabel='Frequency')"
   ]
  },
  {
   "cell_type": "code",
   "execution_count": 11,
   "metadata": {},
   "outputs": [
    {
     "data": {
      "text/plain": [
       "0.21499084799999998"
      ]
     },
     "execution_count": 11,
     "metadata": {},
     "output_type": "execute_result"
    }
   ],
   "source": [
    "import math\n",
    "# p = 0.6\n",
    "# Giả sử nhóm 10 người. \n",
    "# Xác suất để có được chính xác 7 người là nam?\n",
    "# P_x = n!/(k!)(n-k)! x p^k x (1-p)^(n-k)\n",
    "p = 0.6\n",
    "k = 7\n",
    "n = 10\n",
    "P_X_k = (math.factorial(n)/(math.factorial(k)*math.factorial(n-k))) * math.pow(p,k) * math.pow(1-p, n-k)\n",
    "P_X_k"
   ]
  },
  {
   "cell_type": "code",
   "execution_count": 12,
   "metadata": {},
   "outputs": [
    {
     "data": {
      "text/plain": [
       "0.21499084800000012"
      ]
     },
     "execution_count": 12,
     "metadata": {},
     "output_type": "execute_result"
    }
   ],
   "source": [
    "# dùng công thức\n",
    "from scipy.stats import binom\n",
    "P_x_k_f = binom.pmf(k, n, p, loc=0)\n",
    "P_x_k_f"
   ]
  },
  {
   "cell_type": "markdown",
   "metadata": {},
   "source": [
    "## Bài 3: Gợi ý"
   ]
  },
  {
   "cell_type": "code",
   "execution_count": 13,
   "metadata": {},
   "outputs": [
    {
     "data": {
      "text/plain": [
       "0.999"
      ]
     },
     "execution_count": 13,
     "metadata": {},
     "output_type": "execute_result"
    }
   ],
   "source": [
    "P_f = 0.001\n",
    "P_s = 1 - P_f\n",
    "P_s"
   ]
  },
  {
   "cell_type": "code",
   "execution_count": 14,
   "metadata": {},
   "outputs": [],
   "source": [
    "from scipy.stats import bernoulli"
   ]
  },
  {
   "cell_type": "code",
   "execution_count": 15,
   "metadata": {},
   "outputs": [],
   "source": [
    "size = 1000\n",
    "data_bern = bernoulli.rvs(size=size,p=P_s)\n",
    "#data_bern"
   ]
  },
  {
   "cell_type": "code",
   "execution_count": 16,
   "metadata": {},
   "outputs": [],
   "source": [
    "import matplotlib.pyplot as plt\n",
    "import seaborn as sns"
   ]
  },
  {
   "cell_type": "code",
   "execution_count": 17,
   "metadata": {},
   "outputs": [
    {
     "data": {
      "text/plain": [
       "[Text(0, 0.5, 'Frequency'), Text(0.5, 0, 'Bernoulli Distribution')]"
      ]
     },
     "execution_count": 17,
     "metadata": {},
     "output_type": "execute_result"
    },
    {
     "data": {
      "image/png": "[encoded data removed]",
      "text/plain": [
       "<Figure size 432x288 with 1 Axes>"
      ]
     },
     "metadata": {
      "needs_background": "light"
     },
     "output_type": "display_data"
    }
   ],
   "source": [
    "ax= sns.distplot(data_bern,\n",
    "                 kde=False,\n",
    "                 color=\"blue\",\n",
    "                 hist_kws={\"linewidth\": 50,'alpha':1})\n",
    "ax.set(xlabel='Bernoulli Distribution', ylabel='Frequency')"
   ]
  },
  {
   "cell_type": "code",
   "execution_count": 18,
   "metadata": {},
   "outputs": [],
   "source": [
    "import math"
   ]
  },
  {
   "cell_type": "code",
   "execution_count": 19,
   "metadata": {},
   "outputs": [
    {
     "data": {
      "text/plain": [
       "0.6940698870404745"
      ]
     },
     "execution_count": 19,
     "metadata": {},
     "output_type": "execute_result"
    }
   ],
   "source": [
    "P_s_365 = math.pow(P_s, 365)\n",
    "P_s_365"
   ]
  },
  {
   "cell_type": "code",
   "execution_count": 20,
   "metadata": {},
   "outputs": [
    {
     "data": {
      "text/plain": [
       "0.30593011295952555"
      ]
     },
     "execution_count": 20,
     "metadata": {},
     "output_type": "execute_result"
    }
   ],
   "source": [
    "P_f_365 = 1 - P_s_365\n",
    "P_f_365"
   ]
  },
  {
   "cell_type": "code",
   "execution_count": null,
   "metadata": {},
   "outputs": [],
   "source": []
  }
 ],
 "metadata": {
  "kernelspec": {
   "display_name": "Python 3",
   "language": "python",
   "name": "python3"
  },
  "language_info": {
   "codemirror_mode": {
    "name": "ipython",
    "version": 3
   },
   "file_extension": ".py",
   "mimetype": "text/x-python",
   "name": "python",
   "nbconvert_exporter": "python",
   "pygments_lexer": "ipython3",
   "version": "3.6.8"
  }
 },
 "nbformat": 4,
 "nbformat_minor": 2
}

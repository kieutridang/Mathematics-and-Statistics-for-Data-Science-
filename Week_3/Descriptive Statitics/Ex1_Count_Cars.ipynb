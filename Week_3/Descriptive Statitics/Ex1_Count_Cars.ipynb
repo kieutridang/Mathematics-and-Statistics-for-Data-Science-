{
 "cells": [
  {
   "cell_type": "markdown",
   "metadata": {},
   "source": [
    "# Ex1: Descriptive Statistics - Count_Cars"
   ]
  },
  {
   "cell_type": "markdown",
   "metadata": {},
   "source": [
    "### Bài toán: Một thanh tra giao thông đã đếm số lượng ô tô đi qua một điểm nhất định trong 100 khoảng thời gian (cách nhau 20 phút). Các quan sát được liệt kê trong tập tin count_cars.txt.\n",
    "1. Tạo cars_array từ nội dung tập tin.\n",
    "2. Vẽ biểu đồ phân phối tần suất của cars_array\n",
    "3. Thống kê cơ bản cho cars_array; mean, median, mode (gồm những giá trị nào? số lần là bao nhiêu?), max, min\n",
    "5. Tìm range\n",
    "5. Cho biết giá trị ở phân vị thứ [5, 15, 25, 50, 75, 90] của cars_array. Biểu diễn phân vị và giá trị tương ứng trên biểu đồ.\n",
    "6. Vẽ boxplot của cars_array. Dùng z-score để xác định outliers (những index nào? giá trị outliers tương ứng cho những index đó?)\n",
    "7. Tìm IQR cho car_arrays\n",
    "8. Tìm phương sai (variance) cùa cars_array\n",
    "9. Tìm độ lệch chuẩn Standard deviation của cars_array\n",
    "10. Tìm độ xiên (Skewness) của cars_array. Nhận xét kết quả.\n",
    "11. Tìm độ nhọn Kurtosis của cars_array. Nhận xét kết quả."
   ]
  },
  {
   "cell_type": "code",
   "execution_count": 1,
   "metadata": {},
   "outputs": [],
   "source": [
    "import numpy as np\n",
    "from scipy import stats"
   ]
  },
  {
   "cell_type": "code",
   "execution_count": 2,
   "metadata": {},
   "outputs": [],
   "source": [
    "# Tạo cars_array từ nội dung tập tin.\n",
    "f=open(\"count_cars.txt\", \"r\")"
   ]
  },
  {
   "cell_type": "code",
   "execution_count": 3,
   "metadata": {},
   "outputs": [
    {
     "data": {
      "text/plain": [
       "'23 20 16 18 30 22 26 15 5 18\\n14 17 11 37 21 6 10 20 22 25\\n19 19 19 20 12 23 24 17 18 16\\n27 16 28 26 15 29 19 35 20 17\\n12 30 21 22 20 15 18 16 23 24\\n15 24 28 19 24 22 17 19 8 18\\n17 18 23 21 25 19 20 22 21 21\\n16 20 19 11 23 17 23 13 17 26\\n26 14 15 16 27 18 21 24 33 20\\n21 27 18 22 17 20 14 21 22 19'"
      ]
     },
     "execution_count": 3,
     "metadata": {},
     "output_type": "execute_result"
    }
   ],
   "source": [
    "content = f.read()\n",
    "content"
   ]
  },
  {
   "cell_type": "code",
   "execution_count": 4,
   "metadata": {},
   "outputs": [
    {
     "data": {
      "text/plain": [
       "array([23, 20, 16, 18, 30, 22, 26, 15,  5, 18, 14, 17, 11, 37, 21,  6, 10,\n",
       "       20, 22, 25, 19, 19, 19, 20, 12, 23, 24, 17, 18, 16, 27, 16, 28, 26,\n",
       "       15, 29, 19, 35, 20, 17, 12, 30, 21, 22, 20, 15, 18, 16, 23, 24, 15,\n",
       "       24, 28, 19, 24, 22, 17, 19,  8, 18, 17, 18, 23, 21, 25, 19, 20, 22,\n",
       "       21, 21, 16, 20, 19, 11, 23, 17, 23, 13, 17, 26, 26, 14, 15, 16, 27,\n",
       "       18, 21, 24, 33, 20, 21, 27, 18, 22, 17, 20, 14, 21, 22, 19])"
      ]
     },
     "execution_count": 4,
     "metadata": {},
     "output_type": "execute_result"
    }
   ],
   "source": [
    "cars = content.split()\n",
    "cars = list(map(int, cars))\n",
    "cars_array = np.array(cars)\n",
    "cars_array"
   ]
  },
  {
   "cell_type": "code",
   "execution_count": 5,
   "metadata": {},
   "outputs": [
    {
     "data": {
      "text/plain": [
       "numpy.ndarray"
      ]
     },
     "execution_count": 5,
     "metadata": {},
     "output_type": "execute_result"
    }
   ],
   "source": [
    "type(cars_array)"
   ]
  },
  {
   "cell_type": "code",
   "execution_count": 6,
   "metadata": {},
   "outputs": [],
   "source": [
    "import matplotlib.pyplot as plt\n",
    "import seaborn as sns"
   ]
  },
  {
   "cell_type": "code",
   "execution_count": 26,
   "metadata": {},
   "outputs": [
    {
     "data": {
      "image/png": "[encoded data removed]",
      "text/plain": [
       "<Figure size 576x288 with 2 Axes>"
      ]
     },
     "metadata": {},
     "output_type": "display_data"
    }
   ],
   "source": [
    "# Vẽ biểu đồ phân phối tần suất của cars_array\n",
    "plt.figure(figsize=(8,4))\n",
    "plt.subplot(1, 2, 1)\n",
    "plt.hist(cars_array)\n",
    "plt.subplot(1, 2, 2)\n",
    "sns.distplot(cars_array)\n",
    "plt.show()"
   ]
  },
  {
   "cell_type": "code",
   "execution_count": 8,
   "metadata": {},
   "outputs": [
    {
     "data": {
      "text/plain": [
       "19.97"
      ]
     },
     "execution_count": 8,
     "metadata": {},
     "output_type": "execute_result"
    }
   ],
   "source": [
    "# Thống kê cơ bản cho cars_array; mean, median, mode (gồm những giá trị nào? số lần là bao nhiêu?), max, min\n",
    "cars_array.mean()"
   ]
  },
  {
   "cell_type": "code",
   "execution_count": 9,
   "metadata": {},
   "outputs": [
    {
     "data": {
      "text/plain": [
       "37"
      ]
     },
     "execution_count": 9,
     "metadata": {},
     "output_type": "execute_result"
    }
   ],
   "source": [
    "cars_array.max()"
   ]
  },
  {
   "cell_type": "code",
   "execution_count": 10,
   "metadata": {},
   "outputs": [
    {
     "data": {
      "text/plain": [
       "5"
      ]
     },
     "execution_count": 10,
     "metadata": {},
     "output_type": "execute_result"
    }
   ],
   "source": [
    "cars_array.min()"
   ]
  },
  {
   "cell_type": "code",
   "execution_count": 11,
   "metadata": {},
   "outputs": [
    {
     "data": {
      "text/plain": [
       "ModeResult(mode=array([19]), count=array([9]))"
      ]
     },
     "execution_count": 11,
     "metadata": {},
     "output_type": "execute_result"
    }
   ],
   "source": [
    "cars_mode = stats.mode(cars_array)\n",
    "cars_mode"
   ]
  },
  {
   "cell_type": "code",
   "execution_count": 12,
   "metadata": {},
   "outputs": [
    {
     "data": {
      "text/plain": [
       "19"
      ]
     },
     "execution_count": 12,
     "metadata": {},
     "output_type": "execute_result"
    }
   ],
   "source": [
    "cars_mode[0][0]"
   ]
  },
  {
   "cell_type": "code",
   "execution_count": 13,
   "metadata": {},
   "outputs": [
    {
     "data": {
      "text/plain": [
       "9"
      ]
     },
     "execution_count": 13,
     "metadata": {},
     "output_type": "execute_result"
    }
   ],
   "source": [
    "cars_mode[1][0]"
   ]
  },
  {
   "cell_type": "code",
   "execution_count": 14,
   "metadata": {},
   "outputs": [
    {
     "data": {
      "text/plain": [
       "32"
      ]
     },
     "execution_count": 14,
     "metadata": {},
     "output_type": "execute_result"
    }
   ],
   "source": [
    "# Tìm range\n",
    "range_cars = np.ptp(cars_array)\n",
    "range_cars"
   ]
  },
  {
   "cell_type": "code",
   "execution_count": 15,
   "metadata": {},
   "outputs": [
    {
     "data": {
      "text/plain": [
       "array([11., 15., 17., 20., 23., 27.])"
      ]
     },
     "execution_count": 15,
     "metadata": {},
     "output_type": "execute_result"
    }
   ],
   "source": [
    "# Cho biết giá trị ở phân vị thứ [5, 15, 25, 50, 75, 90] của cars_array.\n",
    "percentiles = np.array([5, 15, 25, 50, 75, 90])\n",
    "x = np.percentile(cars_array, percentiles)\n",
    "x"
   ]
  },
  {
   "cell_type": "code",
   "execution_count": 16,
   "metadata": {},
   "outputs": [
    {
     "data": {
      "image/png": "[encoded data removed]",
      "text/plain": [
       "<Figure size 432x288 with 1 Axes>"
      ]
     },
     "metadata": {},
     "output_type": "display_data"
    }
   ],
   "source": [
    "# Plot percentiles as red x's\n",
    "plt.plot(x, percentiles/100, marker='D', color='red',\n",
    "         linestyle='none')\n",
    "plt.show()"
   ]
  },
  {
   "cell_type": "code",
   "execution_count": 17,
   "metadata": {},
   "outputs": [
    {
     "data": {
      "text/plain": [
       "<matplotlib.axes._subplots.AxesSubplot at 0x21eff49dc88>"
      ]
     },
     "execution_count": 17,
     "metadata": {},
     "output_type": "execute_result"
    },
    {
     "data": {
      "image/png": "[encoded data removed]",
      "text/plain": [
       "<Figure size 432x288 with 1 Axes>"
      ]
     },
     "metadata": {},
     "output_type": "display_data"
    }
   ],
   "source": [
    "# Vẽ boxplot của cars_array\n",
    "sns.boxplot(cars_array)"
   ]
  },
  {
   "cell_type": "code",
   "execution_count": 18,
   "metadata": {},
   "outputs": [
    {
     "name": "stdout",
     "output_type": "stream",
     "text": [
      "Indexes of outliers: [8, 13, 15, 37]\n",
      "Outlier values: [ 5 37  6 35]\n"
     ]
    }
   ],
   "source": [
    "# Dùng z-score để xác định outliers\n",
    "cars_z_score = stats.zscore(cars_array)\n",
    "outliers = cars_z_score[[(n <=-2.5)|(n>=2.5) for n in cars_z_score]]\n",
    "indexes = [cars_z_score.tolist().index(i) for i in outliers]\n",
    "print(\"Indexes of outliers:\",indexes)\n",
    "print(\"Outlier values:\", cars_array[indexes])"
   ]
  },
  {
   "cell_type": "code",
   "execution_count": 19,
   "metadata": {},
   "outputs": [
    {
     "data": {
      "text/plain": [
       "6.0"
      ]
     },
     "execution_count": 19,
     "metadata": {},
     "output_type": "execute_result"
    }
   ],
   "source": [
    "# IQR cho car_arrays\n",
    "IQR = stats.iqr(cars_array)\n",
    "IQR"
   ]
  },
  {
   "cell_type": "code",
   "execution_count": 20,
   "metadata": {},
   "outputs": [
    {
     "data": {
      "text/plain": [
       "30.489099999999993"
      ]
     },
     "execution_count": 20,
     "metadata": {},
     "output_type": "execute_result"
    }
   ],
   "source": [
    "# Tìm phương sai (variance) cùa cars_array\n",
    "var_cars = np.var(cars_array)\n",
    "var_cars"
   ]
  },
  {
   "cell_type": "code",
   "execution_count": 21,
   "metadata": {},
   "outputs": [
    {
     "data": {
      "text/plain": [
       "5.52169358077755"
      ]
     },
     "execution_count": 21,
     "metadata": {},
     "output_type": "execute_result"
    }
   ],
   "source": [
    "# Tìm độ lệch chuẩn Standard deviation của cars_array\n",
    "std_cars = np.std(cars_array)\n",
    "std_cars"
   ]
  },
  {
   "cell_type": "code",
   "execution_count": 22,
   "metadata": {},
   "outputs": [
    {
     "data": {
      "text/plain": [
       "0.21285259034645865"
      ]
     },
     "execution_count": 22,
     "metadata": {},
     "output_type": "execute_result"
    }
   ],
   "source": [
    "# Tìm độ xiên (Skewness) của cars_array. Nhận xét kết quả.\n",
    "skew_cars = stats.skew(cars_array)\n",
    "skew_cars"
   ]
  },
  {
   "cell_type": "markdown",
   "metadata": {},
   "source": [
    "- Ta thấy skew_cras > 0 => phân phối lệch phải "
   ]
  },
  {
   "cell_type": "code",
   "execution_count": 23,
   "metadata": {},
   "outputs": [],
   "source": [
    "# Tìm độ nhọn Kurtosis của cars_array. Nhận xét kết quả."
   ]
  },
  {
   "cell_type": "code",
   "execution_count": 24,
   "metadata": {},
   "outputs": [
    {
     "data": {
      "text/plain": [
       "0.9396339028047"
      ]
     },
     "execution_count": 24,
     "metadata": {},
     "output_type": "execute_result"
    }
   ],
   "source": [
    "kur_cars = stats.kurtosis(cars_array) # mặc định Fisher = True  thì kur - 3\n",
    "kur_cars"
   ]
  },
  {
   "cell_type": "code",
   "execution_count": 25,
   "metadata": {},
   "outputs": [
    {
     "data": {
      "text/plain": [
       "3.9396339028047"
      ]
     },
     "execution_count": 25,
     "metadata": {},
     "output_type": "execute_result"
    }
   ],
   "source": [
    "kur_cars = stats.kurtosis(cars_array, fisher=False) \n",
    "kur_cars"
   ]
  },
  {
   "cell_type": "markdown",
   "metadata": {},
   "source": [
    "- Với độ nhọn = 3 (theo Pearson) hoặc = 0 (theo Kurtosis ) thì sẽ là phân phối chuẩn , ở đây độ nhọn > 3 (>0) => phân bố này nhọn hơn phân bố chuẩn"
   ]
  },
  {
   "cell_type": "code",
   "execution_count": null,
   "metadata": {},
   "outputs": [],
   "source": []
  }
 ],
 "metadata": {
  "kernelspec": {
   "display_name": "Python 3",
   "language": "python",
   "name": "python3"
  },
  "language_info": {
   "codemirror_mode": {
    "name": "ipython",
    "version": 3
   },
   "file_extension": ".py",
   "mimetype": "text/x-python",
   "name": "python",
   "nbconvert_exporter": "python",
   "pygments_lexer": "ipython3",
   "version": "3.6.8"
  }
 },
 "nbformat": 4,
 "nbformat_minor": 2
}

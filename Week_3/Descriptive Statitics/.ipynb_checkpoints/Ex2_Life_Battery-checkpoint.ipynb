{
 "cells": [
  {
   "cell_type": "markdown",
   "metadata": {},
   "source": [
    "# Ex2: Descriptive Statistics - Life of battery"
   ]
  },
  {
   "cell_type": "markdown",
   "metadata": {},
   "source": [
    "### Bài toán 1: Một nhà sản xuất đang điều tra tuổi thọ hoạt động của pin máy tính xách tay (Battery 1).  Các quan sát được liệt kê trong tập tin life_batteries.txt.\n",
    "1. Tạo life_array từ nội dung tập tin.\n",
    "2. Vẽ biểu đồ phân phối tần suất của life_array\n",
    "3. Làm bảng phân phối tần suất cho dữ liệu theo các khoảng 120-129, 130-139, 140-149, 150 - 159, 160 - 169. \n",
    "4. Vẽ biểu đồ khối cho bảng phân phối tần suất trên. Biểu đồ câu 2 và câu 4 nói lên điều gì?\n",
    "5. Thống kê cơ bản cho life_array; mean, median, mode (gồm những giá trị nào? số lần là bao nhiêu?), max, min, variance, std\n",
    "6. Tìm độ nhọn, độ xiên của dữ liệu. Nhận xét kết quả\n",
    "\n",
    "#### Bổ sung sau khi học bài 6\n",
    "- Cho biết số lượng mẫu nhỏ hơn 150, xác suất các mẫu nhỏ hơn 150 là bao nhiêu? Nhận xét\n",
    "- Tìm xác suất của P(140 ≤ X ≤ 155). Nhận xét"
   ]
  },
  {
   "cell_type": "markdown",
   "metadata": {},
   "source": [
    "### Bài toán 2: Xem xét một bộ dữ liệu 40 mẫu khác cho một nhãn hiệu pin khác (Battery 2). Các quan sát được liệt kê trong tập tin life_batteries_2.txt.\n",
    "1. Tạo life2_array từ nội dung tập tin.\n",
    "2. So sánh 2 nhóm battery 1 (ở bài toán 1) và battery 2 (ở bài toán 2) theo histogram và nhận xét\n",
    "3. Làm bảng phân phối tần suất của Battery 2 cho dữ liệu 120-129, 130-139, 140-149, 150 - 159, 160 - 169.\n",
    "4. Vẽ biểu đồ khối cho bảng phân phối tần suất trên. Biểu đồ câu 2 và câu 4 nói lên điều gì?\n",
    "5. So sánh hai nhóm mẫu dựa trên thống kê chung (dùng stats.describe(array)) , nhận xét kết quả.\n",
    "6. Tạo dataframe chứa tần suất của cả 2 nhóm mẫu gồm có 2 cột là batteries_1 và batteries_1, index là các khoảng như câu 3\n",
    "7. Vẽ boxplot cho cả 2 nhóm batteries_1 và batteries_2 => nhận xét"
   ]
  },
  {
   "cell_type": "markdown",
   "metadata": {},
   "source": [
    "## Bài toán 1: Gợi ý"
   ]
  },
  {
   "cell_type": "code",
   "execution_count": 1,
   "metadata": {},
   "outputs": [],
   "source": [
    "import numpy as np\n",
    "from scipy import stats"
   ]
  },
  {
   "cell_type": "code",
   "execution_count": 2,
   "metadata": {},
   "outputs": [],
   "source": [
    "# Tạo life_array từ nội dung tập tin.\n"
   ]
  },
  {
   "cell_type": "code",
   "execution_count": 3,
   "metadata": {},
   "outputs": [
    {
     "data": {
      "text/plain": [
       "'130\\t145\\t126\\t146\\n164\\t130\\t132\\t152\\n145\\t129\\t133\\t155\\n140\\t127\\t139\\t137\\n131\\t126\\t145\\t148\\n125\\t132\\t126\\t126\\n126\\t135\\t131\\t129\\n147\\t136\\t129\\t136\\n156\\t146\\t130\\t146\\n132\\t142\\t132\\t132\\n'"
      ]
     },
     "execution_count": 3,
     "metadata": {},
     "output_type": "execute_result"
    }
   ],
   "source": [
    "content = f.read()\n",
    "f.close()\n",
    "content"
   ]
  },
  {
   "cell_type": "code",
   "execution_count": 4,
   "metadata": {},
   "outputs": [
    {
     "data": {
      "text/plain": [
       "array([130, 145, 126, 146, 164, 130, 132, 152, 145, 129, 133, 155, 140,\n",
       "       127, 139, 137, 131, 126, 145, 148, 125, 132, 126, 126, 126, 135,\n",
       "       131, 129, 147, 136, 129, 136, 156, 146, 130, 146, 132, 142, 132,\n",
       "       132])"
      ]
     },
     "execution_count": 4,
     "metadata": {},
     "output_type": "execute_result"
    }
   ],
   "source": [
    "life = content.split()\n",
    "life = list(map(int, life))\n",
    "life_array = np.array(life)\n",
    "life_array"
   ]
  },
  {
   "cell_type": "code",
   "execution_count": 5,
   "metadata": {},
   "outputs": [
    {
     "name": "stdout",
     "output_type": "stream",
     "text": [
      "<class 'numpy.ndarray'>\n",
      "40\n"
     ]
    }
   ],
   "source": [
    "print(type(life_array))\n",
    "print(life_array.size)"
   ]
  },
  {
   "cell_type": "code",
   "execution_count": 6,
   "metadata": {},
   "outputs": [],
   "source": [
    "import matplotlib.pyplot as plt\n",
    "import seaborn as sns"
   ]
  },
  {
   "cell_type": "code",
   "execution_count": 7,
   "metadata": {},
   "outputs": [
    {
     "data": {
      "image/png": "[encoded data removed]",
      "text/plain": [
       "<Figure size 576x288 with 2 Axes>"
      ]
     },
     "metadata": {},
     "output_type": "display_data"
    }
   ],
   "source": [
    "# Vẽ biểu đồ phân phối tần suất của life_array và nhận xét\n",
    "plt.figure(figsize=(8,4))\n",
    "plt.subplot(1, 2, 1)\n",
    "plt.hist(life_array)\n",
    "plt.subplot(1, 2, 2)\n",
    "sns.distplot(life_array)\n",
    "plt.show()"
   ]
  },
  {
   "cell_type": "code",
   "execution_count": 8,
   "metadata": {},
   "outputs": [],
   "source": [
    "import pandas as pd"
   ]
  },
  {
   "cell_type": "code",
   "execution_count": 9,
   "metadata": {},
   "outputs": [],
   "source": [
    "# Làm bảng phân phối tần suất cho dữ liệu theo các khoảng 120-129, 130-139, 140-149, 150 - 159, 160 - 169\n",
    "freq = pd.Series()\n",
    "freq['120-129'] = np.extract((life_array>=120) & (life_array <=129), life_array).size\n",
    "freq['130-139'] = np.extract((life_array>=130) & (life_array <=139), life_array).size\n",
    "freq['140-149'] = np.extract((life_array>=140) & (life_array <=149), life_array).size\n",
    "freq['150-159'] = np.extract((life_array>=150) & (life_array <=159), life_array).size\n",
    "freq['160-169'] = np.extract((life_array>=160) & (life_array <=169), life_array).size"
   ]
  },
  {
   "cell_type": "code",
   "execution_count": 10,
   "metadata": {},
   "outputs": [
    {
     "data": {
      "text/plain": [
       "120-129    10\n",
       "130-139    16\n",
       "140-149    10\n",
       "150-159     3\n",
       "160-169     1\n",
       "dtype: int64"
      ]
     },
     "execution_count": 10,
     "metadata": {},
     "output_type": "execute_result"
    }
   ],
   "source": [
    "freq"
   ]
  },
  {
   "cell_type": "code",
   "execution_count": 11,
   "metadata": {},
   "outputs": [],
   "source": [
    "import matplotlib.pyplot as plt\n",
    "import seaborn as sns"
   ]
  },
  {
   "cell_type": "code",
   "execution_count": 12,
   "metadata": {},
   "outputs": [
    {
     "data": {
      "text/plain": [
       "<BarContainer object of 5 artists>"
      ]
     },
     "execution_count": 12,
     "metadata": {},
     "output_type": "execute_result"
    },
    {
     "data": {
      "image/png": "[encoded data removed]",
      "text/plain": [
       "<Figure size 432x288 with 1 Axes>"
      ]
     },
     "metadata": {},
     "output_type": "display_data"
    }
   ],
   "source": [
    "# Vẽ bar chart cho bảng phân phối tần suất trên\n",
    "plt.bar(freq.index, freq)"
   ]
  },
  {
   "cell_type": "markdown",
   "metadata": {},
   "source": [
    "#### Chart này nói lên điều gì?\n",
    "- Biểu đồ cho thấy hầu hết các dữ liệu được tập trung trong khoảng 130, với một vài điểm dữ liệu vượt quá 150. Có thể kết luận rằng trung tâm của dữ liệu là một nơi nào đó trong khoảng 130-139.\n",
    "- Từ hai biểu đồ trên, có thể xác định nhiều biện pháp phân tán và xu hướng trung tâm:"
   ]
  },
  {
   "cell_type": "code",
   "execution_count": 13,
   "metadata": {},
   "outputs": [],
   "source": [
    "# max, min, range, mode, median, variance, std\n",
    "from scipy import stats"
   ]
  },
  {
   "cell_type": "code",
   "execution_count": 14,
   "metadata": {},
   "outputs": [
    {
     "data": {
      "text/plain": [
       "136.85"
      ]
     },
     "execution_count": 14,
     "metadata": {},
     "output_type": "execute_result"
    }
   ],
   "source": [
    "life_array.mean()"
   ]
  },
  {
   "cell_type": "code",
   "execution_count": 15,
   "metadata": {},
   "outputs": [
    {
     "data": {
      "text/plain": [
       "164"
      ]
     },
     "execution_count": 15,
     "metadata": {},
     "output_type": "execute_result"
    }
   ],
   "source": [
    "life_array.max()"
   ]
  },
  {
   "cell_type": "code",
   "execution_count": 16,
   "metadata": {},
   "outputs": [
    {
     "data": {
      "text/plain": [
       "125"
      ]
     },
     "execution_count": 16,
     "metadata": {},
     "output_type": "execute_result"
    }
   ],
   "source": [
    "life_array.min()"
   ]
  },
  {
   "cell_type": "code",
   "execution_count": 17,
   "metadata": {},
   "outputs": [
    {
     "data": {
      "text/plain": [
       "ModeResult(mode=array([126]), count=array([5]))"
      ]
     },
     "execution_count": 17,
     "metadata": {},
     "output_type": "execute_result"
    }
   ],
   "source": [
    "# Tìm mode\n",
    "life_mode = stats.mode(life_array)\n",
    "life_mode"
   ]
  },
  {
   "cell_type": "code",
   "execution_count": 18,
   "metadata": {},
   "outputs": [
    {
     "data": {
      "text/plain": [
       "126"
      ]
     },
     "execution_count": 18,
     "metadata": {},
     "output_type": "execute_result"
    }
   ],
   "source": [
    "mode_value = life_mode[0][0]\n",
    "mode_value"
   ]
  },
  {
   "cell_type": "code",
   "execution_count": 19,
   "metadata": {},
   "outputs": [
    {
     "data": {
      "text/plain": [
       "5"
      ]
     },
     "execution_count": 19,
     "metadata": {},
     "output_type": "execute_result"
    }
   ],
   "source": [
    "mode_freq = life_mode[1][0]\n",
    "mode_freq"
   ]
  },
  {
   "cell_type": "code",
   "execution_count": 20,
   "metadata": {},
   "outputs": [
    {
     "data": {
      "text/plain": [
       "39"
      ]
     },
     "execution_count": 20,
     "metadata": {},
     "output_type": "execute_result"
    }
   ],
   "source": [
    "# Tìm range\n",
    "range_life = np.ptp(life_array)\n",
    "range_life"
   ]
  },
  {
   "cell_type": "code",
   "execution_count": 21,
   "metadata": {},
   "outputs": [
    {
     "data": {
      "text/plain": [
       "93.4775"
      ]
     },
     "execution_count": 21,
     "metadata": {},
     "output_type": "execute_result"
    }
   ],
   "source": [
    "# Tìm phương sai\n",
    "life_var = np.var(life_array)\n",
    "life_var"
   ]
  },
  {
   "cell_type": "code",
   "execution_count": 22,
   "metadata": {},
   "outputs": [
    {
     "data": {
      "text/plain": [
       "9.66837628560246"
      ]
     },
     "execution_count": 22,
     "metadata": {},
     "output_type": "execute_result"
    }
   ],
   "source": [
    "# Tìm độ lệch chuẩn Standard deviation \n",
    "std_cars = np.std(life_array)\n",
    "std_cars"
   ]
  },
  {
   "cell_type": "code",
   "execution_count": 23,
   "metadata": {},
   "outputs": [
    {
     "data": {
      "text/plain": [
       "<matplotlib.axes._subplots.AxesSubplot at 0x2a75794c2e8>"
      ]
     },
     "execution_count": 23,
     "metadata": {},
     "output_type": "execute_result"
    },
    {
     "data": {
      "image/png": "[encoded data removed]",
      "text/plain": [
       "<Figure size 432x288 with 1 Axes>"
      ]
     },
     "metadata": {},
     "output_type": "display_data"
    }
   ],
   "source": [
    "# Vẽ boxplot, tìm outlier\n",
    "sns.boxplot(life_array)"
   ]
  },
  {
   "cell_type": "code",
   "execution_count": 24,
   "metadata": {},
   "outputs": [],
   "source": [
    "# Không có outlier"
   ]
  },
  {
   "cell_type": "code",
   "execution_count": 25,
   "metadata": {},
   "outputs": [
    {
     "data": {
      "text/plain": [
       "0.8455287049086152"
      ]
     },
     "execution_count": 25,
     "metadata": {},
     "output_type": "execute_result"
    }
   ],
   "source": [
    "# Tìm độ xiên (Skewness) của life_array. Nhận xét kết quả.\n",
    "skew_life = stats.skew(life_array)\n",
    "skew_life"
   ]
  },
  {
   "cell_type": "code",
   "execution_count": 26,
   "metadata": {},
   "outputs": [],
   "source": [
    "# Ta thấy skew_life > 0 => phân phối lệch phải "
   ]
  },
  {
   "cell_type": "code",
   "execution_count": 27,
   "metadata": {},
   "outputs": [
    {
     "data": {
      "text/plain": [
       "-0.07613238307755621"
      ]
     },
     "execution_count": 27,
     "metadata": {},
     "output_type": "execute_result"
    }
   ],
   "source": [
    "# Tìm độ nhọn Kurtosis của life_array. Nhận xét kết quả.\n",
    "kur_life = stats.kurtosis(life_array) # mặc định Fisher = True  thì kur - 3\n",
    "kur_life"
   ]
  },
  {
   "cell_type": "markdown",
   "metadata": {},
   "source": [
    "- Với độ nhọn = 3 (theo Pearson) hoặc = 0 (theo Kurtosis ) thì sẽ là phân phối chuẩn , ở đây độ nhọn < 3 (<00) => phân bố này thấp hơn phân bố chuẩn"
   ]
  },
  {
   "cell_type": "code",
   "execution_count": 28,
   "metadata": {},
   "outputs": [
    {
     "data": {
      "text/plain": [
       "0.9"
      ]
     },
     "execution_count": 28,
     "metadata": {},
     "output_type": "execute_result"
    }
   ],
   "source": [
    "## Bổ sung sau khi học bài 6\n",
    "# Cho biết số lượng mẫu nhỏ hơn 150, xác suất các mẫu nhỏ hơn 150 là bao nhiêu?\n",
    "p_x_150 = np.extract(life_array<150, life_array).size/life_array.size\n",
    "p_x_150"
   ]
  },
  {
   "cell_type": "markdown",
   "metadata": {},
   "source": [
    "- Điều này có nghĩa là, dựa trên dữ liệu chúng ta có, chúng ta hy vọng 90% pin sẽ bị hỏng trước 150 phút."
   ]
  },
  {
   "cell_type": "code",
   "execution_count": 29,
   "metadata": {},
   "outputs": [
    {
     "data": {
      "text/plain": [
       "0.3"
      ]
     },
     "execution_count": 29,
     "metadata": {},
     "output_type": "execute_result"
    }
   ],
   "source": [
    "# Tìm xác suất của P(140 ≤ X ≤ 155) \n",
    "p_x_140 = np.extract(life_array>=140, life_array).size/life_array.size\n",
    "p_x_155 = np.extract(life_array>155, life_array).size/life_array.size\n",
    "p_x_140_155 = p_x_140 - p_x_155\n",
    "p_x_140_155"
   ]
  },
  {
   "cell_type": "markdown",
   "metadata": {},
   "source": [
    "- Dựa trên dữ liệu chúng ta có, chúng ta hy vọng 30% pin sẽ có tuổi thọ kéo dài từ 140 phút đến 155 phút."
   ]
  },
  {
   "cell_type": "markdown",
   "metadata": {},
   "source": [
    "## Bài toán 2: Gợi ý\n",
    "#### Xem xét một bộ dữ liệu 40 mẫu khác cho một nhãn hiệu pin khác (Battery 2). Các quan sát được liệt kê trong tập tin life_batteries_2.txt."
   ]
  },
  {
   "cell_type": "code",
   "execution_count": 30,
   "metadata": {},
   "outputs": [
    {
     "data": {
      "text/plain": [
       "'134\\t130\\t140\\t151\\n143\\t134\\t136\\t144\\n150\\t135\\t160\\t141\\n143\\t140\\t138\\t141\\n148\\t146\\t140\\t146\\n151\\t138\\t151\\t139\\n151\\t128\\t146\\t147\\n152\\t142\\t144\\t134\\n142\\t146\\t142\\t136\\n122\\t134\\t145\\t147'"
      ]
     },
     "execution_count": 30,
     "metadata": {},
     "output_type": "execute_result"
    }
   ],
   "source": [
    "# Tạo life2_array từ nội dung tập tin.\n",
    "f2=open(\"life_batteries_2.txt\", \"r\")\n",
    "content2 = f2.read()\n",
    "f2.close()\n",
    "content2"
   ]
  },
  {
   "cell_type": "code",
   "execution_count": 31,
   "metadata": {},
   "outputs": [
    {
     "data": {
      "text/plain": [
       "array([134, 130, 140, 151, 143, 134, 136, 144, 150, 135, 160, 141, 143,\n",
       "       140, 138, 141, 148, 146, 140, 146, 151, 138, 151, 139, 151, 128,\n",
       "       146, 147, 152, 142, 144, 134, 142, 146, 142, 136, 122, 134, 145,\n",
       "       147])"
      ]
     },
     "execution_count": 31,
     "metadata": {},
     "output_type": "execute_result"
    }
   ],
   "source": [
    "life2 = content2.split()\n",
    "life2 = list(map(int, life2))\n",
    "life2_array = np.array(life2)\n",
    "life2_array"
   ]
  },
  {
   "cell_type": "code",
   "execution_count": 32,
   "metadata": {},
   "outputs": [
    {
     "name": "stdout",
     "output_type": "stream",
     "text": [
      "<class 'numpy.ndarray'>\n",
      "40\n"
     ]
    }
   ],
   "source": [
    "print(type(life2_array))\n",
    "print(life2_array.size)"
   ]
  },
  {
   "cell_type": "code",
   "execution_count": 33,
   "metadata": {},
   "outputs": [
    {
     "data": {
      "text/plain": [
       "Text(0.5,1,'Batteries Group 2')"
      ]
     },
     "execution_count": 33,
     "metadata": {},
     "output_type": "execute_result"
    },
    {
     "data": {
      "image/png": "[encoded data removed]",
      "text/plain": [
       "<Figure size 576x288 with 2 Axes>"
      ]
     },
     "metadata": {},
     "output_type": "display_data"
    }
   ],
   "source": [
    "# So sánh 2 nhóm battery 1 và battery 2 theo histogram và nhận xét\n",
    "plt.figure(figsize=(8,4))\n",
    "plt.subplot(1, 2, 1)\n",
    "plt.hist(life_array)\n",
    "plt.title('Batteries Group 1')\n",
    "plt.subplot(1, 2, 2)\n",
    "plt.hist(life2_array)\n",
    "plt.title('Batteries Group 2')"
   ]
  },
  {
   "cell_type": "code",
   "execution_count": 34,
   "metadata": {},
   "outputs": [
    {
     "data": {
      "text/plain": [
       "Text(0.5,1,'Batteries Group 2')"
      ]
     },
     "execution_count": 34,
     "metadata": {},
     "output_type": "execute_result"
    },
    {
     "data": {
      "image/png": "[encoded data removed]",
      "text/plain": [
       "<Figure size 576x288 with 2 Axes>"
      ]
     },
     "metadata": {},
     "output_type": "display_data"
    }
   ],
   "source": [
    "# So sánh 2 nhóm pin theo với histogram và nhận xét\n",
    "plt.figure(figsize=(8,4))\n",
    "plt.subplot(1, 2, 1)\n",
    "sns.distplot(life_array)\n",
    "plt.title('Batteries Group 1')\n",
    "plt.subplot(1, 2, 2)\n",
    "sns.distplot(life2_array)\n",
    "plt.title('Batteries Group 2')"
   ]
  },
  {
   "cell_type": "markdown",
   "metadata": {},
   "source": [
    "- Biểu đồ trên cho thấy rằng có nhiều dữ liệu hơn cho Battery 2 trong khoảng 140 so với Battery 1 trong khoảng 130. Ngoài ra, mức độ biến thiên của Battery 2 ít hơn so với Battery 1. Dựa trên các kết quả này, có thể kết luận rằng Battery 2 là một nhãn hiệu tốt hơn (trung bình cao hơn và biến thiên thấp hơn). Tuy nhiên, tính hợp lệ của kết luận này còn phụ thuộc vào cách thu thập dữ liệu."
   ]
  },
  {
   "cell_type": "code",
   "execution_count": 35,
   "metadata": {},
   "outputs": [],
   "source": [
    "# Làm bảng phân phối tần suất cho dữ liệu 120-129, 130-139, 140-149, 150 - 159, 160 - 169\n",
    "freq2 = pd.Series()\n",
    "freq2['120-129'] = np.extract((life2_array>=120) & (life2_array <=129), life_array).size\n",
    "freq2['130-139'] = np.extract((life2_array>=130) & (life2_array <=139), life_array).size\n",
    "freq2['140-149'] = np.extract((life2_array>=140) & (life2_array <=149), life_array).size\n",
    "freq2['150-159'] = np.extract((life2_array>=150) & (life2_array <=159), life_array).size\n",
    "freq2['160-169'] = np.extract((life2_array>=160) & (life2_array <=169), life_array).size"
   ]
  },
  {
   "cell_type": "code",
   "execution_count": 36,
   "metadata": {},
   "outputs": [
    {
     "data": {
      "text/plain": [
       "<BarContainer object of 5 artists>"
      ]
     },
     "execution_count": 36,
     "metadata": {},
     "output_type": "execute_result"
    },
    {
     "data": {
      "image/png": "[encoded data removed]",
      "text/plain": [
       "<Figure size 432x288 with 1 Axes>"
      ]
     },
     "metadata": {},
     "output_type": "display_data"
    }
   ],
   "source": [
    "# Vẽ bar chart cho bảng phân phối tần suất trên\n",
    "plt.bar(freq2.index, freq)"
   ]
  },
  {
   "cell_type": "code",
   "execution_count": 37,
   "metadata": {},
   "outputs": [
    {
     "data": {
      "text/html": [
       "<div>\n",
       "<style scoped>\n",
       "    .dataframe tbody tr th:only-of-type {\n",
       "        vertical-align: middle;\n",
       "    }\n",
       "\n",
       "    .dataframe tbody tr th {\n",
       "        vertical-align: top;\n",
       "    }\n",
       "\n",
       "    .dataframe thead th {\n",
       "        text-align: right;\n",
       "    }\n",
       "</style>\n",
       "<table border=\"1\" class=\"dataframe\">\n",
       "  <thead>\n",
       "    <tr style=\"text-align: right;\">\n",
       "      <th></th>\n",
       "      <th>batteries_1</th>\n",
       "      <th>batteries_2</th>\n",
       "    </tr>\n",
       "  </thead>\n",
       "  <tbody>\n",
       "    <tr>\n",
       "      <th>120-129</th>\n",
       "      <td>10</td>\n",
       "      <td>2</td>\n",
       "    </tr>\n",
       "    <tr>\n",
       "      <th>130-139</th>\n",
       "      <td>16</td>\n",
       "      <td>11</td>\n",
       "    </tr>\n",
       "    <tr>\n",
       "      <th>140-149</th>\n",
       "      <td>10</td>\n",
       "      <td>20</td>\n",
       "    </tr>\n",
       "    <tr>\n",
       "      <th>150-159</th>\n",
       "      <td>3</td>\n",
       "      <td>6</td>\n",
       "    </tr>\n",
       "    <tr>\n",
       "      <th>160-169</th>\n",
       "      <td>1</td>\n",
       "      <td>1</td>\n",
       "    </tr>\n",
       "  </tbody>\n",
       "</table>\n",
       "</div>"
      ],
      "text/plain": [
       "         batteries_1  batteries_2\n",
       "120-129           10            2\n",
       "130-139           16           11\n",
       "140-149           10           20\n",
       "150-159            3            6\n",
       "160-169            1            1"
      ]
     },
     "execution_count": 37,
     "metadata": {},
     "output_type": "execute_result"
    }
   ],
   "source": [
    "# tạo bảng tần suất của cả 2 nhóm mẫu\n",
    "freq_df = pd.DataFrame({\"batteries_1\":freq, \"batteries_2\":freq2})\n",
    "freq_df"
   ]
  },
  {
   "cell_type": "code",
   "execution_count": 38,
   "metadata": {},
   "outputs": [],
   "source": [
    "# So sánh hai nhóm mẫu, nhận xét kết quả"
   ]
  },
  {
   "cell_type": "code",
   "execution_count": 39,
   "metadata": {},
   "outputs": [
    {
     "data": {
      "text/plain": [
       "DescribeResult(nobs=40, minmax=(125, 164), mean=136.85, variance=95.87435897435898, skewness=0.8455287049086152, kurtosis=-0.07613238307755621)"
      ]
     },
     "execution_count": 39,
     "metadata": {},
     "output_type": "execute_result"
    }
   ],
   "source": [
    "stats.describe(life_array)"
   ]
  },
  {
   "cell_type": "code",
   "execution_count": 40,
   "metadata": {},
   "outputs": [
    {
     "data": {
      "text/plain": [
       "DescribeResult(nobs=40, minmax=(122, 160), mean=141.925, variance=55.19935897435898, skewness=-0.2510338974166527, kurtosis=0.3567028000549164)"
      ]
     },
     "execution_count": 40,
     "metadata": {},
     "output_type": "execute_result"
    }
   ],
   "source": [
    "stats.describe(life2_array)"
   ]
  },
  {
   "cell_type": "markdown",
   "metadata": {},
   "source": [
    "#### Nhận xét:\n",
    "- Những kết quả này cho thấy rằng Pin 2 có tuổi thọ trung bình cao hơn so với Pin 1 và Pin 2 có phương sai nhỏ hơn.\n",
    "- Pin 1 có skewness > 0: phân phối lệch phải \n",
    "- Pin 2 có skewness < 0: phân phối lệch trái\n",
    "- Pin 1 có kurtosis < 0: phân bố này thấp hơn phân bố chuẩn\n",
    "- Pin 2 có kurtosis > 0: phân bố này cao hơn phân bố chuẩn"
   ]
  },
  {
   "cell_type": "code",
   "execution_count": 41,
   "metadata": {},
   "outputs": [
    {
     "data": {
      "text/html": [
       "<div>\n",
       "<style scoped>\n",
       "    .dataframe tbody tr th:only-of-type {\n",
       "        vertical-align: middle;\n",
       "    }\n",
       "\n",
       "    .dataframe tbody tr th {\n",
       "        vertical-align: top;\n",
       "    }\n",
       "\n",
       "    .dataframe thead th {\n",
       "        text-align: right;\n",
       "    }\n",
       "</style>\n",
       "<table border=\"1\" class=\"dataframe\">\n",
       "  <thead>\n",
       "    <tr style=\"text-align: right;\">\n",
       "      <th></th>\n",
       "      <th>batteries_1</th>\n",
       "      <th>batteries_2</th>\n",
       "    </tr>\n",
       "  </thead>\n",
       "  <tbody>\n",
       "    <tr>\n",
       "      <th>0</th>\n",
       "      <td>130</td>\n",
       "      <td>134</td>\n",
       "    </tr>\n",
       "    <tr>\n",
       "      <th>1</th>\n",
       "      <td>145</td>\n",
       "      <td>130</td>\n",
       "    </tr>\n",
       "    <tr>\n",
       "      <th>2</th>\n",
       "      <td>126</td>\n",
       "      <td>140</td>\n",
       "    </tr>\n",
       "    <tr>\n",
       "      <th>3</th>\n",
       "      <td>146</td>\n",
       "      <td>151</td>\n",
       "    </tr>\n",
       "    <tr>\n",
       "      <th>4</th>\n",
       "      <td>164</td>\n",
       "      <td>143</td>\n",
       "    </tr>\n",
       "  </tbody>\n",
       "</table>\n",
       "</div>"
      ],
      "text/plain": [
       "   batteries_1  batteries_2\n",
       "0          130          134\n",
       "1          145          130\n",
       "2          126          140\n",
       "3          146          151\n",
       "4          164          143"
      ]
     },
     "execution_count": 41,
     "metadata": {},
     "output_type": "execute_result"
    }
   ],
   "source": [
    "# Tạo 2 boxplot trên cùng 1 biểu đồ\n",
    "df = pd.DataFrame({\"batteries_1\":life_array, \"batteries_2\":life2_array})\n",
    "df.head()"
   ]
  },
  {
   "cell_type": "code",
   "execution_count": 42,
   "metadata": {},
   "outputs": [
    {
     "data": {
      "text/html": [
       "<div>\n",
       "<style scoped>\n",
       "    .dataframe tbody tr th:only-of-type {\n",
       "        vertical-align: middle;\n",
       "    }\n",
       "\n",
       "    .dataframe tbody tr th {\n",
       "        vertical-align: top;\n",
       "    }\n",
       "\n",
       "    .dataframe thead th {\n",
       "        text-align: right;\n",
       "    }\n",
       "</style>\n",
       "<table border=\"1\" class=\"dataframe\">\n",
       "  <thead>\n",
       "    <tr style=\"text-align: right;\">\n",
       "      <th></th>\n",
       "      <th>batteries_1</th>\n",
       "      <th>batteries_2</th>\n",
       "    </tr>\n",
       "  </thead>\n",
       "  <tbody>\n",
       "    <tr>\n",
       "      <th>count</th>\n",
       "      <td>40.000000</td>\n",
       "      <td>40.000000</td>\n",
       "    </tr>\n",
       "    <tr>\n",
       "      <th>mean</th>\n",
       "      <td>136.850000</td>\n",
       "      <td>141.925000</td>\n",
       "    </tr>\n",
       "    <tr>\n",
       "      <th>std</th>\n",
       "      <td>9.791545</td>\n",
       "      <td>7.429627</td>\n",
       "    </tr>\n",
       "    <tr>\n",
       "      <th>min</th>\n",
       "      <td>125.000000</td>\n",
       "      <td>122.000000</td>\n",
       "    </tr>\n",
       "    <tr>\n",
       "      <th>25%</th>\n",
       "      <td>129.750000</td>\n",
       "      <td>137.500000</td>\n",
       "    </tr>\n",
       "    <tr>\n",
       "      <th>50%</th>\n",
       "      <td>132.500000</td>\n",
       "      <td>142.000000</td>\n",
       "    </tr>\n",
       "    <tr>\n",
       "      <th>75%</th>\n",
       "      <td>145.000000</td>\n",
       "      <td>146.250000</td>\n",
       "    </tr>\n",
       "    <tr>\n",
       "      <th>max</th>\n",
       "      <td>164.000000</td>\n",
       "      <td>160.000000</td>\n",
       "    </tr>\n",
       "  </tbody>\n",
       "</table>\n",
       "</div>"
      ],
      "text/plain": [
       "       batteries_1  batteries_2\n",
       "count    40.000000    40.000000\n",
       "mean    136.850000   141.925000\n",
       "std       9.791545     7.429627\n",
       "min     125.000000   122.000000\n",
       "25%     129.750000   137.500000\n",
       "50%     132.500000   142.000000\n",
       "75%     145.000000   146.250000\n",
       "max     164.000000   160.000000"
      ]
     },
     "execution_count": 42,
     "metadata": {},
     "output_type": "execute_result"
    }
   ],
   "source": [
    "df.describe()"
   ]
  },
  {
   "cell_type": "code",
   "execution_count": 43,
   "metadata": {},
   "outputs": [
    {
     "name": "stdout",
     "output_type": "stream",
     "text": [
      "<class 'pandas.core.frame.DataFrame'>\n",
      "RangeIndex: 40 entries, 0 to 39\n",
      "Data columns (total 2 columns):\n",
      "batteries_1    40 non-null int32\n",
      "batteries_2    40 non-null int32\n",
      "dtypes: int32(2)\n",
      "memory usage: 400.0 bytes\n"
     ]
    }
   ],
   "source": [
    "df.info()"
   ]
  },
  {
   "cell_type": "code",
   "execution_count": 44,
   "metadata": {},
   "outputs": [
    {
     "data": {
      "text/html": [
       "<div>\n",
       "<style scoped>\n",
       "    .dataframe tbody tr th:only-of-type {\n",
       "        vertical-align: middle;\n",
       "    }\n",
       "\n",
       "    .dataframe tbody tr th {\n",
       "        vertical-align: top;\n",
       "    }\n",
       "\n",
       "    .dataframe thead th {\n",
       "        text-align: right;\n",
       "    }\n",
       "</style>\n",
       "<table border=\"1\" class=\"dataframe\">\n",
       "  <thead>\n",
       "    <tr style=\"text-align: right;\">\n",
       "      <th></th>\n",
       "      <th>batteries</th>\n",
       "      <th>value</th>\n",
       "    </tr>\n",
       "  </thead>\n",
       "  <tbody>\n",
       "    <tr>\n",
       "      <th>0</th>\n",
       "      <td>batteries_1</td>\n",
       "      <td>130</td>\n",
       "    </tr>\n",
       "    <tr>\n",
       "      <th>1</th>\n",
       "      <td>batteries_1</td>\n",
       "      <td>145</td>\n",
       "    </tr>\n",
       "    <tr>\n",
       "      <th>2</th>\n",
       "      <td>batteries_1</td>\n",
       "      <td>126</td>\n",
       "    </tr>\n",
       "    <tr>\n",
       "      <th>3</th>\n",
       "      <td>batteries_1</td>\n",
       "      <td>146</td>\n",
       "    </tr>\n",
       "    <tr>\n",
       "      <th>4</th>\n",
       "      <td>batteries_1</td>\n",
       "      <td>164</td>\n",
       "    </tr>\n",
       "  </tbody>\n",
       "</table>\n",
       "</div>"
      ],
      "text/plain": [
       "     batteries  value\n",
       "0  batteries_1    130\n",
       "1  batteries_1    145\n",
       "2  batteries_1    126\n",
       "3  batteries_1    146\n",
       "4  batteries_1    164"
      ]
     },
     "execution_count": 44,
     "metadata": {},
     "output_type": "execute_result"
    }
   ],
   "source": [
    "dd=pd.melt(df, value_vars=['batteries_1','batteries_2'],var_name='batteries')\n",
    "dd.head()"
   ]
  },
  {
   "cell_type": "code",
   "execution_count": 45,
   "metadata": {},
   "outputs": [
    {
     "data": {
      "text/plain": [
       "<matplotlib.axes._subplots.AxesSubplot at 0x2a757c3fac8>"
      ]
     },
     "execution_count": 45,
     "metadata": {},
     "output_type": "execute_result"
    },
    {
     "data": {
      "image/png": "[encoded data removed]",
      "text/plain": [
       "<Figure size 432x288 with 1 Axes>"
      ]
     },
     "metadata": {},
     "output_type": "display_data"
    }
   ],
   "source": [
    "# Vẽ boxplot cho 2 nhóm Pin 1 và Pin 2 => nhận xét\n",
    "sns.boxplot(y='batteries',x='value',data=dd,hue='batteries', whis=\"range\")"
   ]
  },
  {
   "cell_type": "markdown",
   "metadata": {},
   "source": [
    "#### Nhận xét:\n",
    "- Nhóm Pin 1 không có outliers, nhóm Pin 2 có outliers\n",
    "- Phân phối Pin 2 tập trung hơn phân phối phin 1\n",
    "- Biểu đồ ở trên hỗ trợ cho kết luận: phạm vi của Pin 2 ngắn hơn so với Pin 1 (ít thay đổi hơn) và được chuyển sang bên phải (trung tâm cao hơn)."
   ]
  },
  {
   "cell_type": "code",
   "execution_count": null,
   "metadata": {},
   "outputs": [],
   "source": []
  }
 ],
 "metadata": {
  "kernelspec": {
   "display_name": "Python 3",
   "language": "python",
   "name": "python3"
  },
  "language_info": {
   "codemirror_mode": {
    "name": "ipython",
    "version": 3
   },
   "file_extension": ".py",
   "mimetype": "text/x-python",
   "name": "python",
   "nbconvert_exporter": "python",
   "pygments_lexer": "ipython3",
   "version": "3.6.8"
  }
 },
 "nbformat": 4,
 "nbformat_minor": 2
}
